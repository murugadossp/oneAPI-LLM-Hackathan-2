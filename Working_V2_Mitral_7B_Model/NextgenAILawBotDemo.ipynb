{
 "cells": [
  {
   "cell_type": "code",
   "execution_count": 1,
   "id": "09b2dfb2-c710-4275-8637-ed5e2f198fb8",
   "metadata": {},
   "outputs": [],
   "source": [
    "import sys\n",
    "import os"
   ]
  },
  {
   "cell_type": "code",
   "execution_count": 2,
   "id": "a613c1b5-8699-4a4c-b44c-289f7e25574b",
   "metadata": {},
   "outputs": [
    {
     "name": "stdout",
     "output_type": "stream",
     "text": [
      "Python 3.9.16 :: Intel Corporation\n",
      " "
     ]
    }
   ],
   "source": [
    "!python --version"
   ]
  },
  {
   "cell_type": "markdown",
   "id": "a6a04af4-3727-45b7-9705-bb0cabd27b93",
   "metadata": {},
   "source": [
    "# Installation Required one Time"
   ]
  },
  {
   "cell_type": "code",
   "execution_count": 3,
   "id": "a9a79328-4923-4358-978b-9504a859c5cd",
   "metadata": {},
   "outputs": [],
   "source": [
    "!pip install langchain -q --user "
   ]
  },
  {
   "cell_type": "code",
   "execution_count": 4,
   "id": "6f5ceadd-6a13-452a-8d22-4a3792ff09fb",
   "metadata": {},
   "outputs": [],
   "source": [
    "!pip install -U transformers -q --user "
   ]
  },
  {
   "cell_type": "code",
   "execution_count": 5,
   "id": "b2099edd-d7f2-42aa-a6b1-ed89f447a094",
   "metadata": {},
   "outputs": [],
   "source": [
    "!pip install pypdf -q --user"
   ]
  },
  {
   "cell_type": "code",
   "execution_count": 6,
   "id": "0a17caac-c5bd-41ee-81a8-c03ee02e8e6b",
   "metadata": {},
   "outputs": [],
   "source": [
    "!pip install sentence-transformers -q --user"
   ]
  },
  {
   "cell_type": "code",
   "execution_count": 7,
   "id": "1644ebeb-484e-4bbe-82e7-bfe183b72af8",
   "metadata": {},
   "outputs": [],
   "source": [
    "!pip install chromadb -q --user"
   ]
  },
  {
   "cell_type": "code",
   "execution_count": 8,
   "id": "4386b07f-7cc2-43e2-89db-4bd073a2a578",
   "metadata": {},
   "outputs": [],
   "source": [
    "!pip install google-cloud -q --user"
   ]
  },
  {
   "cell_type": "code",
   "execution_count": 11,
   "id": "5ab98ef5-c413-4426-84ca-444730874c0d",
   "metadata": {},
   "outputs": [],
   "source": [
    "!pip install modin -q --user"
   ]
  },
  {
   "cell_type": "code",
   "execution_count": 14,
   "id": "c28da205-ab94-4b8e-b242-4835ebd4fa0f",
   "metadata": {},
   "outputs": [],
   "source": [
    "!pip install bitsandbytes -q --user"
   ]
  },
  {
   "cell_type": "code",
   "execution_count": null,
   "id": "0f15a67b-ffe7-4a6f-bf25-db34053518e3",
   "metadata": {},
   "outputs": [],
   "source": []
  },
  {
   "cell_type": "code",
   "execution_count": 9,
   "id": "ca2b28d1-2b41-4907-b407-836d12e03d56",
   "metadata": {},
   "outputs": [
    {
     "name": "stdout",
     "output_type": "stream",
     "text": [
      "Requirement already satisfied: intel_extension_for_pytorch in /home/ub9a04e0e61464b0670ffe393523c081/.local/lib/python3.9/site-packages (2.1.0)\n",
      "Requirement already satisfied: psutil in /opt/intel/oneapi/intelpython/python3.9/lib/python3.9/site-packages (from intel_extension_for_pytorch) (5.9.0)\n",
      "Requirement already satisfied: numpy in /opt/intel/oneapi/intelpython/python3.9/lib/python3.9/site-packages (from intel_extension_for_pytorch) (1.24.3)\n",
      "Requirement already satisfied: packaging in /opt/intel/oneapi/intelpython/python3.9/lib/python3.9/site-packages (from intel_extension_for_pytorch) (23.1)\n"
     ]
    }
   ],
   "source": [
    "!pip install intel_extension_for_pytorch --user"
   ]
  },
  {
   "cell_type": "markdown",
   "id": "ca05f16a-e7a6-4514-aa57-ae4c4ed1e490",
   "metadata": {},
   "source": [
    "# Imports"
   ]
  },
  {
   "cell_type": "code",
   "execution_count": 3,
   "id": "5bf720d4-affe-4536-9259-0cf6546f6846",
   "metadata": {},
   "outputs": [],
   "source": [
    "import time"
   ]
  },
  {
   "cell_type": "code",
   "execution_count": 4,
   "id": "f5338198-b524-49af-9f8e-446313409654",
   "metadata": {},
   "outputs": [],
   "source": [
    "from langchain.embeddings import HuggingFaceEmbeddings, SentenceTransformerEmbeddings"
   ]
  },
  {
   "cell_type": "code",
   "execution_count": 5,
   "id": "f0571470-8d97-4127-a58a-57bb8ce1196d",
   "metadata": {},
   "outputs": [],
   "source": [
    "from langchain.vectorstores import Chroma"
   ]
  },
  {
   "cell_type": "code",
   "execution_count": 6,
   "id": "f698a6f2-e049-4a50-929e-78d488b2dee8",
   "metadata": {},
   "outputs": [],
   "source": [
    "from langchain.llms import HuggingFacePipeline\n",
    "import torch\n",
    "from transformers import AutoTokenizer, AutoModelForCausalLM, pipeline, AutoModelForSeq2SeqLM\n",
    "from langchain.prompts import PromptTemplate\n",
    "from langchain.chains import LLMChain\n",
    "from langchain.schema.runnable import RunnablePassthrough"
   ]
  },
  {
   "cell_type": "code",
   "execution_count": 7,
   "id": "7e2e0ea8-1223-471f-8ae0-937af870d2ad",
   "metadata": {},
   "outputs": [],
   "source": [
    "from langchain.chains import RetrievalQA"
   ]
  },
  {
   "cell_type": "code",
   "execution_count": 8,
   "id": "1ebfd19a-af91-46e5-bd93-a497d4c38aed",
   "metadata": {},
   "outputs": [],
   "source": [
    "from chatbot_model import ChatBotModel"
   ]
  },
  {
   "cell_type": "code",
   "execution_count": 9,
   "id": "e97aa4d6-cde8-401a-82c8-24df7b6c18f2",
   "metadata": {},
   "outputs": [],
   "source": [
    "from input_data_loader import InputDataLoader"
   ]
  },
  {
   "cell_type": "code",
   "execution_count": 10,
   "id": "529059d2-d65f-4fe8-8614-731d0251b1e8",
   "metadata": {},
   "outputs": [
    {
     "name": "stderr",
     "output_type": "stream",
     "text": [
      "2023-12-15 22:42:29,317 - numexpr.utils - INFO - Note: detected 224 virtual cores but NumExpr set to maximum of 64, check \"NUMEXPR_MAX_THREADS\" environment variable.\n",
      "2023-12-15 22:42:29,318 - numexpr.utils - INFO - Note: NumExpr detected 224 cores but \"NUMEXPR_MAX_THREADS\" not set, so enforcing safe limit of 8.\n",
      "2023-12-15 22:42:29,318 - numexpr.utils - INFO - NumExpr defaulting to 8 threads.\n"
     ]
    }
   ],
   "source": [
    "import modin.pandas as pd"
   ]
  },
  {
   "cell_type": "code",
   "execution_count": 11,
   "id": "c8883475-7650-4287-9f57-cfeab69077b4",
   "metadata": {},
   "outputs": [],
   "source": [
    "import pandas as default_pd"
   ]
  },
  {
   "cell_type": "markdown",
   "id": "151c7ae7-e212-4e8a-b762-528b79cf3b19",
   "metadata": {},
   "source": [
    "# DataLoader"
   ]
  },
  {
   "cell_type": "code",
   "execution_count": 12,
   "id": "4eff8a5d-4fb5-4bde-a43a-295f10270a9b",
   "metadata": {},
   "outputs": [],
   "source": [
    "chroma_db_dir = \"1chroma-db\""
   ]
  },
  {
   "cell_type": "markdown",
   "id": "6d0b5a9c-ecf6-44a0-b8fc-bd1a9e7213af",
   "metadata": {},
   "source": [
    "# DATA Loader Core - Do 1 time"
   ]
  },
  {
   "cell_type": "code",
   "execution_count": 11,
   "id": "2ce5a1be-b122-493a-8a40-7070af6dcc61",
   "metadata": {},
   "outputs": [
    {
     "name": "stdout",
     "output_type": "stream",
     "text": [
      "2023-12-15 12:24:13.310521: creating persistent database directory: 1chroma-db\n",
      "2023-12-15 12:25:44.660243: Initializing SentenceTransformerEmbeddings\n"
     ]
    },
    {
     "name": "stderr",
     "output_type": "stream",
     "text": [
      "2023-12-15 12:25:45,668 - sentence_transformers.SentenceTransformer - INFO - Load pretrained SentenceTransformer: all-MiniLM-L6-v2\n",
      "2023-12-15 12:25:46,679 - sentence_transformers.SentenceTransformer - INFO - Use pytorch device: cpu\n"
     ]
    },
    {
     "name": "stdout",
     "output_type": "stream",
     "text": [
      "2023-12-15 12:25:46.680383: Creating a Chroma vector database from the text chunks\n"
     ]
    },
    {
     "name": "stderr",
     "output_type": "stream",
     "text": [
      "2023-12-15 12:25:46,910 - chromadb.telemetry.product.posthog - INFO - Anonymized telemetry enabled. See                     https://docs.trychroma.com/telemetry for more information.\n"
     ]
    },
    {
     "data": {
      "application/vnd.jupyter.widget-view+json": {
       "model_id": "a3cc9708ccc1465f90a96e11f6651bd9",
       "version_major": 2,
       "version_minor": 0
      },
      "text/plain": [
       "Batches:   0%|          | 0/191 [00:00<?, ?it/s]"
      ]
     },
     "metadata": {},
     "output_type": "display_data"
    },
    {
     "name": "stdout",
     "output_type": "stream",
     "text": [
      "2023-12-15 12:27:03.024604: Making the Chroma vector database persistent\n",
      "2023-12-15 12:27:03.024736: Total Time taken for Converting the Documents to Embeddings and store in the database: 169.71\n"
     ]
    }
   ],
   "source": [
    "input_loader = InputDataLoader(persistent_db_dir=chroma_db_dir)\n",
    "input_loader.core()"
   ]
  },
  {
   "cell_type": "markdown",
   "id": "c2981bed-e885-44c5-8526-f899a4ec60b1",
   "metadata": {},
   "source": [
    "# Define Model"
   ]
  },
  {
   "cell_type": "code",
   "execution_count": 13,
   "id": "e224db08-49d2-4628-86d4-cd9c4c159919",
   "metadata": {},
   "outputs": [
    {
     "name": "stdout",
     "output_type": "stream",
     "text": [
      "XPU or GPU not available - returning with CPU\n",
      "2023-12-15 22:42:48.494552: torch_dtype : torch.bfloat16\n",
      "2023-12-15 22:42:48.494572: device : cpu\n",
      "2023-12-15 22:42:48.494575: model_id_or_path : mistralai/Mixtral-8x7B-Instruct-v0.1\n",
      "2023-12-15 22:42:48.494582: AutoTokenizer.from_pretrained model_id_or_path : mistralai/Mixtral-8x7B-Instruct-v0.1 \n",
      "2023-12-15 22:42:48.756070: Time Taken for tokenizer_init: 0.26 seconds\n",
      "2023-12-15 22:42:48.756118: model_init: .AutoModelForCausalLM.from_pretrained model_id_or_path : mistralai/Mixtral-8x7B-Instruct-v0.1 \n"
     ]
    },
    {
     "data": {
      "application/vnd.jupyter.widget-view+json": {
       "model_id": "ae533a94680f4ad6bad664d8096fe321",
       "version_major": 2,
       "version_minor": 0
      },
      "text/plain": [
       "Loading checkpoint shards:   0%|          | 0/19 [00:00<?, ?it/s]"
      ]
     },
     "metadata": {},
     "output_type": "display_data"
    },
    {
     "name": "stdout",
     "output_type": "stream",
     "text": [
      "2023-12-15 22:45:41.586142: Time Taken for model_init: 172.83 seconds\n",
      "2023-12-15 22:45:41.586190: Enabling Intel ipex Optimizer\n"
     ]
    },
    {
     "name": "stderr",
     "output_type": "stream",
     "text": [
      "UserWarning: Conv BatchNorm folding failed during the optimize process.\n",
      "UserWarning: Linear BatchNorm folding failed during the optimize process.\n"
     ]
    },
    {
     "name": "stdout",
     "output_type": "stream",
     "text": [
      "2023-12-15 22:46:25.689146: ChatBotModel Initialization Complete\n",
      "2023-12-15 22:46:25.689255: Time Taken for model_init: 217.19 seconds\n"
     ]
    }
   ],
   "source": [
    "chat_bot_model = ChatBotModel(\n",
    "                 model_id_or_path = \"mistralai/Mixtral-8x7B-Instruct-v0.1\",\n",
    "                 optimize=True\n",
    "                    )"
   ]
  },
  {
   "cell_type": "code",
   "execution_count": 14,
   "id": "a0b090a0-a6d5-4c8c-8279-eb51d275e739",
   "metadata": {},
   "outputs": [
    {
     "name": "stdout",
     "output_type": "stream",
     "text": [
      "XPU or GPU not available - returning with CPU\n",
      "2023-12-15 22:47:59.877427: torch_dtype : torch.bfloat16\n",
      "2023-12-15 22:47:59.877458: device : cpu\n",
      "2023-12-15 22:47:59.877461: model_id_or_path : mistralai/Mixtral-8x7B-Instruct-v0.1\n",
      "2023-12-15 22:47:59.877466: AutoTokenizer.from_pretrained model_id_or_path : mistralai/Mixtral-8x7B-Instruct-v0.1 \n",
      "2023-12-15 22:48:00.025035: Time Taken for tokenizer_init: 0.15 seconds\n",
      "2023-12-15 22:48:00.025055: model_init: .AutoModelForCausalLM.from_pretrained model_id_or_path : mistralai/Mixtral-8x7B-Instruct-v0.1 \n"
     ]
    },
    {
     "data": {
      "application/vnd.jupyter.widget-view+json": {
       "model_id": "d783b892786947ce9be40835ef206d7d",
       "version_major": 2,
       "version_minor": 0
      },
      "text/plain": [
       "Loading checkpoint shards:   0%|          | 0/19 [00:00<?, ?it/s]"
      ]
     },
     "metadata": {},
     "output_type": "display_data"
    },
    {
     "name": "stdout",
     "output_type": "stream",
     "text": [
      "2023-12-15 22:48:36.763919: Time Taken for model_init: 36.74 seconds\n",
      "2023-12-15 22:48:36.763977: Intel ipex Optimizer is not enabled as per request\n",
      "2023-12-15 22:48:36.763982: ChatBotModel Initialization Complete\n",
      "2023-12-15 22:48:36.763987: Time Taken for model_init: 36.89 seconds\n"
     ]
    }
   ],
   "source": [
    "chat_bot_model_no_opt = ChatBotModel(model_id_or_path = \"mistralai/Mixtral-8x7B-Instruct-v0.1\",\n",
    "                                     optimize=False)"
   ]
  },
  {
   "cell_type": "code",
   "execution_count": 15,
   "id": "2094d6d0-049e-4196-8df1-9ae003fff899",
   "metadata": {},
   "outputs": [
    {
     "name": "stderr",
     "output_type": "stream",
     "text": [
      "2023-12-15 22:48:48,832 - sentence_transformers.SentenceTransformer - INFO - Load pretrained SentenceTransformer: all-MiniLM-L6-v2\n",
      "2023-12-15 22:48:49,983 - sentence_transformers.SentenceTransformer - INFO - Use pytorch device: cpu\n"
     ]
    }
   ],
   "source": [
    "embeddings = HuggingFaceEmbeddings(model_name=\"all-MiniLM-L6-v2\")\n",
    "# self.embeddings = SentenceTransformerEmbeddings(model_name=\"multi-qa-mpnet-base-dot-v1\")"
   ]
  },
  {
   "cell_type": "markdown",
   "id": "63819c89-bad8-4462-9840-8ee257ec070d",
   "metadata": {
    "jp-MarkdownHeadingCollapsed": true
   },
   "source": [
    "# Sample embedding output"
   ]
  },
  {
   "cell_type": "code",
   "execution_count": 21,
   "id": "b1374439-1493-4759-a512-e1d9131b7295",
   "metadata": {},
   "outputs": [
    {
     "data": {
      "application/vnd.jupyter.widget-view+json": {
       "model_id": "b08dda4b587740deb3719821f289a6d4",
       "version_major": 2,
       "version_minor": 0
      },
      "text/plain": [
       "Batches:   0%|          | 0/1 [00:00<?, ?it/s]"
      ]
     },
     "metadata": {},
     "output_type": "display_data"
    },
    {
     "data": {
      "text/plain": [
       "[-0.03833853453397751, 0.1234646737575531, -0.02864292822778225]"
      ]
     },
     "execution_count": 21,
     "metadata": {},
     "output_type": "execute_result"
    }
   ],
   "source": [
    "text = \"This is a test document.\"\n",
    "query_result = embeddings.embed_query(text)\n",
    "query_result[:3]"
   ]
  },
  {
   "cell_type": "markdown",
   "id": "36b573d3-7695-4b26-8e08-8f5fdeb8a0f4",
   "metadata": {},
   "source": [
    "# Embed Documents"
   ]
  },
  {
   "cell_type": "code",
   "execution_count": 16,
   "id": "92094e9b-a14c-412f-805b-3ec62bc39fee",
   "metadata": {},
   "outputs": [
    {
     "name": "stderr",
     "output_type": "stream",
     "text": [
      "2023-12-15 22:49:01,082 - chromadb.telemetry.product.posthog - INFO - Anonymized telemetry enabled. See                     https://docs.trychroma.com/telemetry for more information.\n"
     ]
    }
   ],
   "source": [
    "db = Chroma(persist_directory=chroma_db_dir, embedding_function=embeddings)"
   ]
  },
  {
   "cell_type": "markdown",
   "id": "948e97dc-eaff-4dbe-9197-59986b1cacf6",
   "metadata": {},
   "source": [
    "# Create Pipeline"
   ]
  },
  {
   "cell_type": "code",
   "execution_count": 17,
   "id": "11812140-9349-4d70-924d-c88e063da2ca",
   "metadata": {},
   "outputs": [],
   "source": [
    "def _pipeline(max_length=512,temperature=0.3,top_p=0.95, bot_model=None):\n",
    "    pipe = pipeline(\n",
    "            'text2text-generation',\n",
    "            model=bot_model.model,\n",
    "            tokenizer=bot_model.tokenizer,\n",
    "            max_length=max_length,\n",
    "            do_sample=True,\n",
    "            temperature=temperature,\n",
    "            top_p=top_p\n",
    "        )\n",
    "    return HuggingFacePipeline(pipeline=pipe)"
   ]
  },
  {
   "cell_type": "code",
   "execution_count": 18,
   "id": "65ff7a0c-d7f1-4048-8543-3f4ee3594b3f",
   "metadata": {},
   "outputs": [],
   "source": [
    "def _pipeline_mistral(max_length=512,temperature=0.3,top_p=0.95, bot_model=None):\n",
    "    text_generation_pipeline = pipeline(\n",
    "        model=bot_model.model,\n",
    "        tokenizer=bot_model.tokenizer,\n",
    "        task=\"text-generation\",\n",
    "        temperature=temperature,\n",
    "        do_sample=True,\n",
    "        repetition_penalty=1.1,\n",
    "        return_full_text=True,\n",
    "        max_new_tokens=1000,\n",
    "    )\n",
    "    return HuggingFacePipeline(pipeline=text_generation_pipeline)"
   ]
  },
  {
   "cell_type": "code",
   "execution_count": 19,
   "id": "73bb6163-9dcc-4e2c-8b60-a68d685c9d31",
   "metadata": {},
   "outputs": [],
   "source": [
    "llm_optimized = _pipeline_mistral(bot_model=chat_bot_model)\n",
    "llm_not_optimized = _pipeline_mistral(bot_model=chat_bot_model_no_opt)"
   ]
  },
  {
   "cell_type": "markdown",
   "id": "2adced8b-5ea2-4959-8968-517178e5b68e",
   "metadata": {
    "jp-MarkdownHeadingCollapsed": true
   },
   "source": [
    "# Commented Section - Not Needed this was different Chain to Retrieve. "
   ]
  },
  {
   "cell_type": "code",
   "execution_count": 31,
   "id": "97dc6186-e35b-449e-87c5-5e9a9ede31f7",
   "metadata": {},
   "outputs": [],
   "source": [
    "# The model 'MixtralForCausalLM' is not supported for text2text-generation. Supported models are ['BartForConditionalGeneration', 'BigBirdPegasusForConditionalGeneration', 'BlenderbotForConditionalGeneration', 'BlenderbotSmallForConditionalGeneration', 'EncoderDecoderModel', 'FSMTForConditionalGeneration', 'GPTSanJapaneseForConditionalGeneration', 'LEDForConditionalGeneration', 'LongT5ForConditionalGeneration', 'M2M100ForConditionalGeneration', 'MarianMTModel', 'MBartForConditionalGeneration', 'MT5ForConditionalGeneration', 'MvpForConditionalGeneration', 'NllbMoeForConditionalGeneration', 'PegasusForConditionalGeneration', 'PegasusXForConditionalGeneration', 'PLBartForConditionalGeneration', 'ProphetNetForConditionalGeneration', 'SeamlessM4TForTextToText', 'SeamlessM4Tv2ForTextToText', 'SwitchTransformersForConditionalGeneration', 'T5ForConditionalGeneration', 'UMT5ForConditionalGeneration', 'XLMProphetNetForConditionalGeneration']."
   ]
  },
  {
   "cell_type": "code",
   "execution_count": 20,
   "id": "bd557088-142c-4c37-a489-18c89a42656a",
   "metadata": {},
   "outputs": [],
   "source": [
    "#  # Create a RetrievalQA chain\n",
    "# qa_chain_optimized = RetrievalQA.from_chain_type(\n",
    "#     llm=llm_optimized,\n",
    "#     chain_type='stuff',\n",
    "#     retriever=db.as_retriever(search_type=\"similarity\", search_kwargs={\"k\": 2}),\n",
    "#     return_source_documents=True,\n",
    "# )"
   ]
  },
  {
   "cell_type": "code",
   "execution_count": 21,
   "id": "c961dd05-a9c2-4a20-ac49-6410a4a3411e",
   "metadata": {},
   "outputs": [],
   "source": [
    "\n",
    "#  # Create a RetrievalQA chain\n",
    "# qa_chain_not_optimized = RetrievalQA.from_chain_type(\n",
    "#     llm=llm_not_optimized,\n",
    "#     chain_type='stuff',\n",
    "#     retriever=db.as_retriever(search_type=\"similarity\", search_kwargs={\"k\": 2}),\n",
    "#     return_source_documents=True,\n",
    "# )"
   ]
  },
  {
   "cell_type": "markdown",
   "id": "9107fc72-0965-470d-96fd-cf373f6d2b23",
   "metadata": {},
   "source": [
    "# Prompt Template"
   ]
  },
  {
   "cell_type": "code",
   "execution_count": 20,
   "id": "54c7e581-51f5-4005-9139-a8089198ff23",
   "metadata": {},
   "outputs": [],
   "source": [
    "prompt_template = \"\"\"\n",
    "### [INST] \n",
    "Instruction: Assume You are expert in India's constitution and you know about India Law Sections, which is otherwise Indian Penal Code. \n",
    "Here is context to help:\n",
    "\n",
    "{context}\n",
    "\n",
    "### QUESTION:\n",
    "{question} \n",
    "\n",
    "[/INST]\n",
    " \"\"\"\n",
    "\n"
   ]
  },
  {
   "cell_type": "code",
   "execution_count": 21,
   "id": "16b15b90-bad7-4e6c-963d-613e3445df6e",
   "metadata": {},
   "outputs": [],
   "source": [
    "# Create prompt from prompt template \n",
    "prompt = PromptTemplate(\n",
    "    input_variables=[\"context\", \"question\"],\n",
    "    template=prompt_template,\n",
    ")\n"
   ]
  },
  {
   "cell_type": "markdown",
   "id": "66759d96-5dfb-411e-8309-514a5c227995",
   "metadata": {},
   "source": [
    "# LLM Chains"
   ]
  },
  {
   "cell_type": "code",
   "execution_count": 22,
   "id": "c63cde45-1894-410c-a353-562ff3e53ddc",
   "metadata": {},
   "outputs": [],
   "source": [
    "# Create llm chain \n",
    "llm_chain_optimized = LLMChain(llm=llm_optimized, prompt=prompt)"
   ]
  },
  {
   "cell_type": "code",
   "execution_count": 23,
   "id": "0f806460-4c6d-4eb2-b2de-4f257e663ef7",
   "metadata": {},
   "outputs": [],
   "source": [
    "# Create llm chain \n",
    "llm_chain_not_optimized = LLMChain(llm=llm_not_optimized, prompt=prompt)"
   ]
  },
  {
   "cell_type": "code",
   "execution_count": 24,
   "id": "f01551b5-1d46-4efe-9edb-a328ce0f3c7a",
   "metadata": {},
   "outputs": [],
   "source": [
    "# retriever = db.as_retriever()\n",
    "retriever=db.as_retriever(search_type=\"similarity\", search_kwargs={\"k\": 2})"
   ]
  },
  {
   "cell_type": "code",
   "execution_count": 26,
   "id": "3ec85e3c-c803-4014-9c49-4a383041d1db",
   "metadata": {},
   "outputs": [],
   "source": [
    "def warm_up():\n",
    "    query = \"What is IPC\" \n",
    "    rag_chain_optimized = ( \n",
    "     {\"context\": retriever, \"question\": RunnablePassthrough()}\n",
    "        | llm_chain_optimized\n",
    "    )\n",
    "    \n",
    "    resp = rag_chain_optimized.invoke(query)\n",
    "    print(f\"Response: {resp['text']}\")"
   ]
  },
  {
   "cell_type": "code",
   "execution_count": 27,
   "id": "2f19643b-c8c9-434d-986e-22f45e23f8f0",
   "metadata": {},
   "outputs": [
    {
     "data": {
      "application/vnd.jupyter.widget-view+json": {
       "model_id": "94ec5a3dc7da4f9c810546362541d255",
       "version_major": 2,
       "version_minor": 0
      },
      "text/plain": [
       "Batches:   0%|          | 0/1 [00:00<?, ?it/s]"
      ]
     },
     "metadata": {},
     "output_type": "display_data"
    },
    {
     "name": "stderr",
     "output_type": "stream",
     "text": [
      "Setting `pad_token_id` to `eos_token_id`:2 for open-end generation.\n"
     ]
    },
    {
     "name": "stdout",
     "output_type": "stream",
     "text": [
      "Response: \n",
      "The Indian Penal Code (IPC) is a comprehensive code of criminal law that came into operation on 1st January 1862. It applies throughout India except for the State of Jammu and Kashmir. The IPC provides for punishment for every act or omission that is contrary to its provisions, regardless of the nationality or rank of the person committing the offense. However, there are certain exceptions to this principle, such as the Sovereign and Foreign Sovereigns. Additionally, the IPC does not affect the provisions of any act for punishing mutiny and desertion by officers, soldiers, sailors, or airmen in the service of the Government of India.\n"
     ]
    }
   ],
   "source": [
    "warm_up()"
   ]
  },
  {
   "cell_type": "markdown",
   "id": "a6283efc-dcaa-4b66-bc98-5ba9b2268f04",
   "metadata": {},
   "source": [
    "# Rag Chain"
   ]
  },
  {
   "cell_type": "code",
   "execution_count": 29,
   "id": "bf109c6b-da21-4242-8e5d-a751a00ad470",
   "metadata": {},
   "outputs": [],
   "source": [
    "rag_chain_not_optimized = ( \n",
    " {\"context\": retriever, \"question\": RunnablePassthrough()}\n",
    "    | llm_chain_not_optimized\n",
    ")\n",
    "rag_chain_optimized = ( \n",
    " {\"context\": retriever, \"question\": RunnablePassthrough()}\n",
    "    | llm_chain_optimized\n",
    ")"
   ]
  },
  {
   "cell_type": "code",
   "execution_count": 30,
   "id": "a231a9a8-f2ea-4b3a-a769-7be29be3be56",
   "metadata": {},
   "outputs": [],
   "source": [
    "def chat_bot_front_end_mistral_LLMChain():\n",
    "    while True:\n",
    "        # Prompt the user for a query\n",
    "        input_query = str(input(\"Enter your query (or 'EXIT' to stop): \"))\n",
    "    \n",
    "        # Check if the user entered 'EXIT' to stop the program\n",
    "        if input_query.upper() == 'EXIT':\n",
    "            print(\"Exiting...\")\n",
    "            break\n",
    "        start_time = time.time()\n",
    "        # Execute the query using the QA chain\n",
    "        llm_response_not_optimized = rag_chain_not_optimized.invoke(input_query)\n",
    "        inferencetime_not_optimized = round((time.time()-start_time), 2)\n",
    "        # Print the response\n",
    "        print(f\"llm_response_not_optimized: {llm_response_not_optimized['text']}\")\n",
    "        print(f\"inferencetime_not_optimized : {inferencetime_not_optimized}\")\n",
    "        \n",
    "        print(f\"Checking response with not optimized\")\n",
    "        start_time = time.time()\n",
    "       \n",
    "        # Execute the query using the QA chain\n",
    "        llm_response_optimized = rag_chain_optimized.invoke(input_query)\n",
    "        inferencetime_optimized = round((time.time()-start_time), 2)\n",
    "        print(f\"llm_response_optimized: {llm_response_optimized['text']}\")\n",
    "        print(f\"inferencetime_optimized : {inferencetime_optimized}\")\n",
    "        "
   ]
  },
  {
   "cell_type": "markdown",
   "id": "77346893-4440-4506-9b3d-4cabe03800fe",
   "metadata": {},
   "source": [
    "# Chat bot - Final"
   ]
  },
  {
   "cell_type": "code",
   "execution_count": null,
   "id": "08c4fdd9-4038-4ecd-8952-92cdf906cf46",
   "metadata": {},
   "outputs": [
    {
     "name": "stdin",
     "output_type": "stream",
     "text": [
      "Enter your query (or 'EXIT' to stop):  Explain Article 5\n"
     ]
    },
    {
     "data": {
      "application/vnd.jupyter.widget-view+json": {
       "model_id": "bc6f746e2d0a459b8b0e38c65ead7861",
       "version_major": 2,
       "version_minor": 0
      },
      "text/plain": [
       "Batches:   0%|          | 0/1 [00:00<?, ?it/s]"
      ]
     },
     "metadata": {},
     "output_type": "display_data"
    },
    {
     "name": "stderr",
     "output_type": "stream",
     "text": [
      "Setting `pad_token_id` to `eos_token_id`:2 for open-end generation.\n"
     ]
    },
    {
     "name": "stdout",
     "output_type": "stream",
     "text": [
      "llm_response_not_optimized: \n",
      "Article 5 of the Indian Constitution deals with the power of the Supreme Court to issue certain writs for the enforcement of fundamental rights. According to this article, the Supreme Court has the power to issue writs including habeas corpus, mandamus, prohibition, quo warranto, and certiorari for the enforcement of the fundamental rights conferred by Part III of the Constitution. These writs are issued to protect the citizens against the infringement of their fundamental rights by the State or its instrumentalities. The power of the Supreme Court under Article 5 is similar to the power of the High Courts under Article 226 of the Constitution. However, unlike the High Courts, the Supreme Court can issue these writs only for the enforcement of fundamental rights and not for any other purpose.\n",
      "\n",
      "The document provided does not contain any information related to Article 5 directly. But, it gives some context regarding the powers of the Supreme Court and the jurisdiction of the authority functioning as the Privy Council in a State specified in Part B of the First Schedule. This information is relevant to understand the overall structure of the judiciary in India and the role of the Supreme Court in protecting the fundamental rights of the citizens.\n",
      "\n",
      "In summary, Article 5 of the Indian Constitution empowers the Supreme Court to issue writs for the enforcement of fundamental rights. This power is essential to ensure that the fundamental rights of the citizens are protected and upheld against any infringement by the State or its instrumentalities.\n",
      "inferencetime_not_optimized : 92.11\n",
      "Checking response with not optimized\n"
     ]
    },
    {
     "data": {
      "application/vnd.jupyter.widget-view+json": {
       "model_id": "a2494ad4fb10466b891f274b4f8d9f6a",
       "version_major": 2,
       "version_minor": 0
      },
      "text/plain": [
       "Batches:   0%|          | 0/1 [00:00<?, ?it/s]"
      ]
     },
     "metadata": {},
     "output_type": "display_data"
    },
    {
     "name": "stderr",
     "output_type": "stream",
     "text": [
      "Setting `pad_token_id` to `eos_token_id`:2 for open-end generation.\n"
     ]
    },
    {
     "name": "stdout",
     "output_type": "stream",
     "text": [
      "llm_response_optimized: \n",
      "Article 5 of the Indian Constitution is not directly provided in the given document page contents. However, I can provide some general information about Article 5 based on my knowledge of the Indian Constitution and legal system.\n",
      "\n",
      "Article 5 of the Indian Constitution deals with citizenship at the commencement of the Constitution. It specifies who would be considered a citizen of India at the beginning of the Constitution's implementation. According to this article, the following individuals would be considered Indian citizens at the commencement of the Constitution:\n",
      "\n",
      "1. A person who has his domicile in India and was born in the territory of India or whose parents were born in the territory of India.\n",
      "2. A person who has migrated to India from Pakistan and has been residing in India since the 19th day of July 1948.\n",
      "3. A person who has migrated to India from any country (other than Pakistan) and has been registered as a citizen of India under the Citizenship Act, 1955.\n",
      "\n",
      "It is important to note that the specific details of Article 5 are not provided in the given document page contents. The information provided here is based on general knowledge of the Indian Constitution and legal system.\n",
      "inferencetime_optimized : 87.03\n"
     ]
    },
    {
     "name": "stdin",
     "output_type": "stream",
     "text": [
      "Enter your query (or 'EXIT' to stop):  What is contempt of court\n"
     ]
    },
    {
     "data": {
      "application/vnd.jupyter.widget-view+json": {
       "model_id": "4413d3ec4f4743fca4d419af8845b29d",
       "version_major": 2,
       "version_minor": 0
      },
      "text/plain": [
       "Batches:   0%|          | 0/1 [00:00<?, ?it/s]"
      ]
     },
     "metadata": {},
     "output_type": "display_data"
    },
    {
     "name": "stderr",
     "output_type": "stream",
     "text": [
      "Setting `pad_token_id` to `eos_token_id`:2 for open-end generation.\n"
     ]
    },
    {
     "name": "stdout",
     "output_type": "stream",
     "text": [
      "llm_response_not_optimized: \n",
      "Contempt of court refers to the offense of disobeying or disrespecting a court of law and its procedures or orders. In India, contempt of court is classified into civil contempt and criminal contempt under the Contempt of Courts Act, 1971. Civil contempt involves wilful disobedience to any judgment, decree, direction, order, writ or other process of a court or wilful breach of an undertaking given to a court. Criminal contempt, on the other hand, includes the publication of any matter or the doing of any other act whatsoever which scandalizes or tends to scandalize or lowers or tends to lower the authority of any court, prejudices or interferes or tends to interfere with the due course of any judicial proceeding, or interferes or tends to interfere with or obstructs or tends to obstruct the administration of justice in any other manner. Examples of contempt of court include rude and contumelious behavior, obstinacy, perverseness, prevarication, refusal to answer any lawful question, breach of the peace, or any wilful disturbance. The penalty for contempt of court may vary depending on the severity of the offense and the specific laws of the jurisdiction.\n",
      "inferencetime_not_optimized : 79.48\n",
      "Checking response with not optimized\n"
     ]
    },
    {
     "data": {
      "application/vnd.jupyter.widget-view+json": {
       "model_id": "d958e7cfdbb345e6a0d9bdf337b4d912",
       "version_major": 2,
       "version_minor": 0
      },
      "text/plain": [
       "Batches:   0%|          | 0/1 [00:00<?, ?it/s]"
      ]
     },
     "metadata": {},
     "output_type": "display_data"
    },
    {
     "name": "stderr",
     "output_type": "stream",
     "text": [
      "Setting `pad_token_id` to `eos_token_id`:2 for open-end generation.\n"
     ]
    },
    {
     "name": "stdout",
     "output_type": "stream",
     "text": [
      "llm_response_optimized: \n",
      "Contempt of court refers to disobedience or disrespect towards a court of law and its processes. In the Indian legal system, contempt of court is classified into civil contempt and criminal contempt under the Contempt of Courts Act, 1971. Civil contempt refers to the wilful disobedience to any judgment, decree, direction, order, writ, or other process of a court or wilful breach of an undertaking given to a court. Criminal contempt, on the other hand, includes any publication (whether by words, spoken or written, or by signs, or by visible representations, or otherwise) of any matter or the doing of any other act whatsoever which scandalizes or tends to scandalize or lowers or tends to lower the authority of any court, or prejudices, or interferes or tends to interfere with, the due course of any judicial proceeding, or interferes or tends to interfere with, or obstructs or tends to obstruct, the administration of justice in any other manner. Examples of contempt of court include rude and contumelious behavior, obstinacy, perverseness, prevarication, or refusal to answer any lawful question, breach of the peace, or any wilful disturbance, making impertinent threats to a witness, insulting the judge, or calling the trial judge a \"prejudiced judge.\" The punishment for contempt of court may vary depending on the circumstances and the specific provision of law violated.\n",
      "inferencetime_optimized : 117.76\n"
     ]
    },
    {
     "name": "stdin",
     "output_type": "stream",
     "text": [
      "Enter your query (or 'EXIT' to stop):  In my neighbour's house one thief stole jewellery, he was caught by the police. What sections of IPC we need to demand\n"
     ]
    },
    {
     "data": {
      "application/vnd.jupyter.widget-view+json": {
       "model_id": "39dda555e6c3461ba9fcdcee3f8f418e",
       "version_major": 2,
       "version_minor": 0
      },
      "text/plain": [
       "Batches:   0%|          | 0/1 [00:00<?, ?it/s]"
      ]
     },
     "metadata": {},
     "output_type": "display_data"
    },
    {
     "name": "stderr",
     "output_type": "stream",
     "text": [
      "Setting `pad_token_id` to `eos_token_id`:2 for open-end generation.\n"
     ]
    },
    {
     "name": "stdout",
     "output_type": "stream",
     "text": [
      "llm_response_not_optimized: \n",
      "Based on the information provided, the following sections of the Indian Penal Code (IPC) may be applicable in this situation:\n",
      "\n",
      "1. Section 380 - Theft: This section applies when any person dishonestly intends to take any movable property out of the possession of any person without that person's consent. Since the thief stole jewellery from your neighbor's house, this section would likely apply.\n",
      "2. Section 454 - House-trespass in order to commit offence punishable with imprisonment: If the thief entered your neighbor's house with the intention of committing theft, this section may also apply.\n",
      "3. Section 413 - Habitual dealing in stolen property: If the thief has a history of dealing in stolen property, this section may be applicable. However, this would require evidence of other instances of the accused dealing in stolen property beyond the present instance.\n",
      "4. Section 467 - Forgery of valuable security, will, etc.: Depending on the nature of the stolen jewellery, if it is a valuable security or a will, this section may also apply.\n",
      "\n",
      "It is important to note that these are potential sections based on the limited information provided. The actual charges brought against the thief would depend on the specific circumstances of the case and the evidence collected by the police.\n",
      "inferencetime_not_optimized : 82.88\n",
      "Checking response with not optimized\n"
     ]
    },
    {
     "data": {
      "application/vnd.jupyter.widget-view+json": {
       "model_id": "fd91775e2f9149f8aa1caf4e7e3e08c6",
       "version_major": 2,
       "version_minor": 0
      },
      "text/plain": [
       "Batches:   0%|          | 0/1 [00:00<?, ?it/s]"
      ]
     },
     "metadata": {},
     "output_type": "display_data"
    },
    {
     "name": "stderr",
     "output_type": "stream",
     "text": [
      "Setting `pad_token_id` to `eos_token_id`:2 for open-end generation.\n"
     ]
    },
    {
     "name": "stdout",
     "output_type": "stream",
     "text": [
      "llm_response_optimized: \n",
      "Based on the information provided, the following sections of the Indian Penal Code (IPC) may be applicable in this situation:\n",
      "\n",
      "1. Section 380 - House breaking and Theft: This section applies when a person commits theft by entering a building or structure with the intention of committing a theft or after committing a theft. Since the thief stole jewellery from your neighbour's house, this section may be applicable.\n",
      "2. Section 457 - Lurking house-trespass or house-breaking by night: This section applies when a person trespasses into a building or structure during the night with the intention of committing an offence. If the thief entered your neighbour's house during the night, this section may be applicable.\n",
      "3. Section 413 - Habitual dealing in stolen property: If the thief has a history of dealing in stolen property, this section may be applicable. This section punishes those who habitually deal in stolen property, and requires evidence of other instances of the accused indulging in the act beyond the present instance.\n",
      "4. Section 467 - Forgery of valuable security, will, etc.: This section applies when a person forges a document or seal with the intention of using it to commit fraud or cheating. If the stolen jewellery includes any items with seals or markings that have been forged, this section may be applicable.\n",
      "\n",
      "It is important to note that these are potential charges based on the limited information provided, and that the actual charges brought against the thief may vary depending on the specific circumstances of the case.\n",
      "inferencetime_optimized : 105.84\n"
     ]
    },
    {
     "name": "stdin",
     "output_type": "stream",
     "text": [
      "Enter your query (or 'EXIT' to stop):  If there is person gets injured because of apposite person's fault what Sections IPC we can file a case\n"
     ]
    },
    {
     "data": {
      "application/vnd.jupyter.widget-view+json": {
       "model_id": "cf1777ea494747449dcdff0ef382808e",
       "version_major": 2,
       "version_minor": 0
      },
      "text/plain": [
       "Batches:   0%|          | 0/1 [00:00<?, ?it/s]"
      ]
     },
     "metadata": {},
     "output_type": "display_data"
    },
    {
     "name": "stderr",
     "output_type": "stream",
     "text": [
      "Setting `pad_token_id` to `eos_token_id`:2 for open-end generation.\n"
     ]
    },
    {
     "name": "stdout",
     "output_type": "stream",
     "text": [
      "llm_response_not_optimized: \n",
      "Based on the information provided in the documents, if a person causes harm or injury to another individual due to their actions, they may be liable for punishment under sections 323 and 324 of the Indian Penal Code (IPC) of 1860.\n",
      "\n",
      "Section 323 of the IPC deals with causing hurt, which refers to any act that causes pain, discomfort, or bodily impairment to another person. This offense is punishable with imprisonment for up to one year, or a fine, or both.\n",
      "\n",
      "On the other hand, Section 324 of the IPC deals with causing grievous hurt, which involves more severe forms of physical harm, such as permanent loss of sight, hearing, or speech, emasculation, permanent privation of the use of any limb, etc. This offense is punishable with imprisonment for up to seven years, or a fine, or both.\n",
      "\n",
      "However, it is important to note that for a successful conviction under either of these sections, the prosecution must establish that the harm caused was intentional and voluntary. Additionally, the severity of the injury and the circumstances surrounding the incident will also play a crucial role in determining the appropriate charge and potential punishment.\n",
      "\n",
      "In cases where the harm caused is minor and does not fall within the definition of \"hurt\" or \"grievous hurt,\" the accused may still be liable for punishment under other provisions of the IPC, depending on the specific facts and circumstances of the case.\n",
      "inferencetime_not_optimized : 90.65\n",
      "Checking response with not optimized\n"
     ]
    },
    {
     "data": {
      "application/vnd.jupyter.widget-view+json": {
       "model_id": "d86a0e27092b4b36af3d901a602506d6",
       "version_major": 2,
       "version_minor": 0
      },
      "text/plain": [
       "Batches:   0%|          | 0/1 [00:00<?, ?it/s]"
      ]
     },
     "metadata": {},
     "output_type": "display_data"
    },
    {
     "name": "stderr",
     "output_type": "stream",
     "text": [
      "Setting `pad_token_id` to `eos_token_id`:2 for open-end generation.\n"
     ]
    },
    {
     "name": "stdout",
     "output_type": "stream",
     "text": [
      "llm_response_optimized: \n",
      "Based on the information provided in the documents, if a person injures another individual due to their fault, two possible sections of the Indian Penal Code (IPC) that may apply are:\n",
      "\n",
      "* Section 323: This section pertains to \"voluntarily causing hurt,\" which refers to inflicting physical pain or injury upon another person intentionally, but without the intent to cause serious harm or death.\n",
      "* Section 324: This section deals with \"voluntarily causing hurt by dangerous weapons or means,\" which involves using dangerous weapons or methods to cause injury to another person. This offense is considered more severe than Section 323.\n",
      "\n",
      "In order to determine which section is applicable in a specific situation, several factors need to be taken into account, such as the severity of the injury, the intent of the person causing the injury, and whether any dangerous weapons or means were used. If the injury is minor and there is no evidence suggesting that the person intended to cause serious harm or death, then Section 323 may be the appropriate charge. However, if the injury is more severe or if dangerous weapons or means were used, then Section 324 may be more appropriate. Ultimately, the decision would depend on the facts and circumstances of each case.\n",
      "inferencetime_optimized : 85.31\n"
     ]
    },
    {
     "name": "stdin",
     "output_type": "stream",
     "text": [
      "Enter your query (or 'EXIT' to stop):  When a person cheats money from another. what law of the ipc should be applicable\n"
     ]
    },
    {
     "data": {
      "application/vnd.jupyter.widget-view+json": {
       "model_id": "a90339ee624c4b2cbb4ab7b7a4a7b566",
       "version_major": 2,
       "version_minor": 0
      },
      "text/plain": [
       "Batches:   0%|          | 0/1 [00:00<?, ?it/s]"
      ]
     },
     "metadata": {},
     "output_type": "display_data"
    },
    {
     "name": "stderr",
     "output_type": "stream",
     "text": [
      "Setting `pad_token_id` to `eos_token_id`:2 for open-end generation.\n"
     ]
    },
    {
     "name": "stdout",
     "output_type": "stream",
     "text": [
      "llm_response_not_optimized: \n",
      "Based on the information presented in the documents, if a person cheats money from another, the following provisions of the Indian Penal Code (IPC) could potentially apply:\n",
      "\n",
      "1. Section 415 - Cheating: This provision defines cheating as \"dishonestly inducing delivery of property or making a person do or omit to do something valuable to him, by deceiving him.\" If a person obtains money through deception, this provision could be applicable.\n",
      "\n",
      "2. Section 420 - Cheating and dishonestly inducing delivery of property: This provision deals with more serious forms of cheating, particularly those involving the fraudulent removal of property from the possession of others. It includes situations where a person cheats and dishonestly induces the delivery of property, which covers cases where money is obtained through deception.\n",
      "\n",
      "3. Section 468 - Forgery for purpose of cheating: This provision applies when a person creates a false document or alters a genuine one with the intent to commit fraud or cheating. If someone uses forged documents to cheat another person out of their money, this provision could be relevant.\n",
      "\n",
      "4. Sections 466 and 467 - Forgery of records of Court or of public register, etc.: These provisions relate to specific types of forgery, including forgery of court records or public registers. If a person cheats someone by using falsified court records or other official documents, these provisions might be applicable.\n",
      "\n",
      "5. Section 468 - Forgery for purpose of cheating: This provision deals with cases where forgery is committed specifically to facilitate cheating. If a person creates a false document to cheat another person out of their money, this provision could be relevant.\n",
      "\n",
      "Please note that the applicability of these provisions will depend on the specific circumstances of each case. Legal advice from a qualified professional should be sought for accurate guidance.\n",
      "inferencetime_not_optimized : 110.86\n",
      "Checking response with not optimized\n"
     ]
    },
    {
     "data": {
      "application/vnd.jupyter.widget-view+json": {
       "model_id": "0b26e8bbad7a4ba4baf01fa956f50065",
       "version_major": 2,
       "version_minor": 0
      },
      "text/plain": [
       "Batches:   0%|          | 0/1 [00:00<?, ?it/s]"
      ]
     },
     "metadata": {},
     "output_type": "display_data"
    },
    {
     "name": "stderr",
     "output_type": "stream",
     "text": [
      "Setting `pad_token_id` to `eos_token_id`:2 for open-end generation.\n"
     ]
    },
    {
     "name": "stdout",
     "output_type": "stream",
     "text": [
      "llm_response_optimized: \n",
      "Based on the information provided, if a person cheats money from another, the relevant provision of the Indian Penal Code (IPC) would typically be Section 420, which deals with the offense of cheating and dishonestly inducing delivery of property. However, depending on the specific circumstances of the case, other related provisions such as Section 415 (cheating), Section 466 (forgery), Section 467 (forgery of valuable security, will, etc.), and Section 468 (forgery for purpose of cheating) may also apply. It is important to note that the applicability of these provisions depends on the individual facts and circumstances of each case, and should be determined by a legal professional with expertise in Indian law.\n",
      "inferencetime_optimized : 57.14\n"
     ]
    },
    {
     "name": "stdin",
     "output_type": "stream",
     "text": [
      "Enter your query (or 'EXIT' to stop):  Explain section 420\n"
     ]
    },
    {
     "data": {
      "application/vnd.jupyter.widget-view+json": {
       "model_id": "482383c2f0464abc8196453f9590200f",
       "version_major": 2,
       "version_minor": 0
      },
      "text/plain": [
       "Batches:   0%|          | 0/1 [00:00<?, ?it/s]"
      ]
     },
     "metadata": {},
     "output_type": "display_data"
    },
    {
     "name": "stderr",
     "output_type": "stream",
     "text": [
      "Setting `pad_token_id` to `eos_token_id`:2 for open-end generation.\n"
     ]
    },
    {
     "name": "stdout",
     "output_type": "stream",
     "text": [
      "llm_response_not_optimized: \n",
      "Section 420 of the Indian Penal Code defines the offense of cheating and dishonestly inducing delivery of property. It states that if a person cheats and thereby dishonestly induces another person to deliver any property to them or to make, alter, or destroy the whole or any part of a valuable security, they shall be punished with imprisonment of either description for a term which may extend to seven years, and shall also be liable to fine. This provision is intended to protect individuals and their property from being defrauded through deception and false promises.\n",
      "inferencetime_not_optimized : 32.36\n",
      "Checking response with not optimized\n"
     ]
    },
    {
     "data": {
      "application/vnd.jupyter.widget-view+json": {
       "model_id": "6b7c6813fddd4f178831829fadeb15a5",
       "version_major": 2,
       "version_minor": 0
      },
      "text/plain": [
       "Batches:   0%|          | 0/1 [00:00<?, ?it/s]"
      ]
     },
     "metadata": {},
     "output_type": "display_data"
    },
    {
     "name": "stderr",
     "output_type": "stream",
     "text": [
      "Setting `pad_token_id` to `eos_token_id`:2 for open-end generation.\n"
     ]
    },
    {
     "name": "stdout",
     "output_type": "stream",
     "text": [
      "llm_response_optimized:  I am assuming that you are asking me to explain Section 420 of the Indian Penal Code (IPC). Section 420 is a provision under the IPC that deals with the offense of cheating and dishonestly inducing delivery of property. It states:\n",
      "\n",
      "> Whoever cheats and thereby dishonestly induces the person deceived to deliver any property to any person, or to make, alter or destroy the whole or any part of a valuable security, or anything which is signed or sealed, and which is capable of being converted into a valuable security, shall be punished with imprisonment of either description for a term which may extend to seven years, and shall also be liable to fine.\n",
      "\n",
      "In simple terms, Section 420 makes it a criminal offense to cheat someone and induce them to deliver their property or to make, alter, or destroy any valuable security. The punishment for committing this offense can be imprisonment for up to seven years and a fine.\n",
      "\n",
      "It is important to note that the offense of cheating under Section 420 requires both the intention to deceive and the actual delivery of property or the making, alteration, or destruction of a valuable security. Therefore, simply intending to cheat someone without actually carrying out the act is not sufficient to attract the provisions of Section 420.\n",
      "\n",
      "Furthermore, the term \"cheating\" has been defined under Section 415 of the IPC as follows:\n",
      "\n",
      "> A person is said to \"cheat\" if he fraudulently or dishonestly induces a person to deliver any property or to promise to deliver any property, or to do or omit to do anything which he would not do or omit to do if he were not so induced, or if he performs or omits to perform any act for the purpose of causing or knowing that it is likely to cause damage or harm to that person in body, mind, reputation or property.\n",
      "\n",
      "Therefore, the offense of cheating involves the intentional use of deceitful means to induce someone to act in a manner that they would not have acted otherwise, resulting in harm to their person or property.\n",
      "inferencetime_optimized : 143.06\n"
     ]
    },
    {
     "name": "stdin",
     "output_type": "stream",
     "text": [
      "Enter your query (or 'EXIT' to stop):  Give more information about civil law sections in INdia\n"
     ]
    },
    {
     "data": {
      "application/vnd.jupyter.widget-view+json": {
       "model_id": "880b1f25a0804ac4b6fc2bed8d94c528",
       "version_major": 2,
       "version_minor": 0
      },
      "text/plain": [
       "Batches:   0%|          | 0/1 [00:00<?, ?it/s]"
      ]
     },
     "metadata": {},
     "output_type": "display_data"
    },
    {
     "name": "stderr",
     "output_type": "stream",
     "text": [
      "Setting `pad_token_id` to `eos_token_id`:2 for open-end generation.\n"
     ]
    },
    {
     "name": "stdout",
     "output_type": "stream",
     "text": [
      "llm_response_not_optimized: \n",
      "In India, civil laws are primarily governed by the Indian Contract Act, 1872, the Indian Partnership Act, 1932, the Indian Sale of Goods Act, 1930, and the Specific Relief Act, 1963. These laws provide a legal framework for contracts, partnerships, sales, and specific relief, among other things. In the context of your question, I will focus on the tort of malicious prosecution, which can be pursued through a civil lawsuit for damages under Indian law.\n",
      "\n",
      "The case Preeti Gupta v State of Jharkhand, (2010) 7 SCC 667 highlights the distinction between sections 182 and 211 of the Indian Penal Code (IPC), which pertain to false information and false charges, respectively. While both sections deal with providing false information, section 211 concerns itself with making a false charge of a serious nature.\n",
      "\n",
      "When it comes to civil remedies for malicious prosecution, the Law Commission of India's 243rd report provides recommendations for amending the law. According to the report, para-9.1 states that \"the person who has been maliciously prosecuted should have a right to sue the prosecutor for compensation.\" This recommendation aims to strengthen the rights of individuals who have been wrongfully prosecuted and suffered damages as a result.\n",
      "\n",
      "To successfully claim damages for malicious prosecution in a civil suit, the plaintiff must prove four key elements:\n",
      "\n",
      "1. There was a prior criminal proceeding against the plaintiff.\n",
      "2. The defendant initiated or continued the criminal proceeding maliciously.\n",
      "3. The criminal proceeding terminated in favor of the plaintiff.\n",
      "4. The plaintiff suffered damage as a direct result of the malicious prosecution.\n",
      "\n",
      "These principles apply when seeking damages for malicious prosecution in a civil lawsuit in India. It is essential to note that each case is unique, and the outcome may depend on the specific facts and circumstances involved.\n",
      "inferencetime_not_optimized : 112.81\n",
      "Checking response with not optimized\n"
     ]
    },
    {
     "data": {
      "application/vnd.jupyter.widget-view+json": {
       "model_id": "ede945f336f4454eaba9fd5ebb88bc97",
       "version_major": 2,
       "version_minor": 0
      },
      "text/plain": [
       "Batches:   0%|          | 0/1 [00:00<?, ?it/s]"
      ]
     },
     "metadata": {},
     "output_type": "display_data"
    },
    {
     "name": "stderr",
     "output_type": "stream",
     "text": [
      "Setting `pad_token_id` to `eos_token_id`:2 for open-end generation.\n"
     ]
    },
    {
     "name": "stdout",
     "output_type": "stream",
     "text": [
      "llm_response_optimized: \n",
      "In India, civil laws are primarily governed by the Indian Contract Act, 1872, the Specific Relief Act, 1963, and the Code of Civil Procedure, 1908. These laws provide remedies for various types of civil wrongs, including breach of contract, specific performance, injunction, and damages.\n",
      "\n",
      "One important aspect of civil law in India is the concept of \"damages\" for malicious prosecution. This is addressed in Section 95 of the Indian Evidence Act, 1872, which states that \"when a person is prosecuted for any offense, and it appears that the proceeding was maliciously intended against him to injure him, he shall be entitled to recover damages from the prosecutor.\"\n",
      "\n",
      "The case of Preeti Gupta v State of Jharkhand (2010) 7 SCC 667 provides guidance on the distinction between sections 182 and 211 of the Indian Penal Code, which relate to false information and false charges, respectively. In this case, the Supreme Court clarified that while both sections involve false statements, section 211 requires proof of malice and want of reasonable and probable cause, whereas section 182 does not.\n",
      "\n",
      "The Law Commission of India has also addressed issues related to civil law in its 243rd Report, available at <http://lawcommissionofindia.nic.in/reports/report243.pdf>. This report discusses various aspects of civil litigation, including the need for reforms to improve access to justice and reduce delays in court proceedings.\n",
      "\n",
      "Overall, civil law in India provides a framework for resolving disputes and seeking compensation for wrongs committed against individuals or entities. While there are many different statutes and regulations governing civil matters, the concepts of damages for malicious prosecution and the distinction between false information and false charges are key components of this legal system.\n",
      "inferencetime_optimized : 136.58\n"
     ]
    },
    {
     "name": "stdin",
     "output_type": "stream",
     "text": [
      "Enter your query (or 'EXIT' to stop):  Tell more about marriage laws in India\n"
     ]
    },
    {
     "data": {
      "application/vnd.jupyter.widget-view+json": {
       "model_id": "f0948d494f6644aa877f9b481e34ac38",
       "version_major": 2,
       "version_minor": 0
      },
      "text/plain": [
       "Batches:   0%|          | 0/1 [00:00<?, ?it/s]"
      ]
     },
     "metadata": {},
     "output_type": "display_data"
    },
    {
     "name": "stderr",
     "output_type": "stream",
     "text": [
      "Setting `pad_token_id` to `eos_token_id`:2 for open-end generation.\n"
     ]
    },
    {
     "name": "stdout",
     "output_type": "stream",
     "text": [
      "llm_response_not_optimized: \n",
      "Marriage laws in India are primarily governed by personal laws, which vary based on religion. However, the Indian Penal Code (IPC) contains provisions relating to certain offenses related to marriage, including bigamy.\n",
      "\n",
      "Chapter XX of the IPC deals with offenses relating to marriage, and Section 494 specifically addresses the offense of marrying again during the lifetime of a husband or wife. According to this provision, whoever, having a husband or wife living, marries again during the lifetime of such husband or wife, shall be punished with imprisonment of either description for a term which may extend to seven years, and shall also be liable to fine.\n",
      "\n",
      "However, there are exceptions to this rule. The section does not extend to any person whose marriage with such husband or wife has been declared void by a court of competent jurisdiction, nor to any person who contracts a marriage during the life of a former husband or wife, if such husband or wife, at the time of the subsequent marriage, shall have been continually absent for the space of seven years, and shall not have been heard of by such person as being alive within that time. In such cases, the person contracting the subsequent marriage must inform the person with whom such marriage is contracted of the real state of facts so far as the same are within his or her knowledge.\n",
      "\n",
      "It is important to note that the section does not apply to Mohammedan males, who are allowed to marry more than one wife, but it applies to Mohammedan females, and to Hindus, Christians, and Parsis of either sex.\n",
      "\n",
      "In addition to the IPC, various personal laws govern marriage and divorce among different religious communities in India. For example, the Hindu Marriage Act, 1955, governs marriages and divorces among Hindus, Buddhists, Sikhs, and Jains. Similarly, the Muslim Personal Law (Shariat) Application Act, 1937, governs marriages and divorces among Muslims. The Indian Christian Marriage Act, 1872, governs marriages among Christians, while the Parsi Marriage and Divorce Act, 1936, governs marriages and divorces among Parsis.\n",
      "\n",
      "In recent years, there have been demands for a uniform civil code in India, which would replace personal laws with a single set of laws governing marriage, divorce, inheritance, and adoption for all citizens, regardless of their religion. However, this proposal has been met with resistance from various religious communities, and no consensus has yet been reached on the issue.\n",
      "inferencetime_not_optimized : 139.71\n",
      "Checking response with not optimized\n"
     ]
    },
    {
     "data": {
      "application/vnd.jupyter.widget-view+json": {
       "model_id": "ae0d5b288a75411ca9be00b1d6bc08c9",
       "version_major": 2,
       "version_minor": 0
      },
      "text/plain": [
       "Batches:   0%|          | 0/1 [00:00<?, ?it/s]"
      ]
     },
     "metadata": {},
     "output_type": "display_data"
    },
    {
     "name": "stderr",
     "output_type": "stream",
     "text": [
      "Setting `pad_token_id` to `eos_token_id`:2 for open-end generation.\n"
     ]
    },
    {
     "name": "stdout",
     "output_type": "stream",
     "text": [
      "llm_response_optimized: \n",
      "Marriage laws in India are primarily governed by personal laws, which vary based on religion. However, the Indian Penal Code (IPC) contains provisions relating to certain offenses related to marriage, including bigamy.\n",
      "\n",
      "Chapter XX of the IPC deals with offenses relating to marriage, and Section 494 of the IPC specifically addresses the offense of marrying again during the lifetime of the husband or wife. According to this section, whoever, having a husband or wife living, marries again in any case where such marriage is void by reason of its taking place during the life of such husband or wife, shall be punished with imprisonment of either description for a term which may extend to seven years, and shall also be liable to fine.\n",
      "\n",
      "However, there are some exceptions to this rule. The section does not extend to any person whose marriage with such husband or wife has been declared void by a court of competent jurisdiction, nor to any person who contracts a marriage during the life of a former husband or wife, if such husband or wife, at the time of the subsequent marriage, shall have been continually absent from such person for the space of seven years, and shall not have been heard of by such person as being alive within that time, provided the person contracting such subsequent marriage shall, before such marriage takes place, inform the person with whom such marriage is contracted of the real state of facts so far as the same are within his or her knowledge.\n",
      "\n",
      "Furthermore, each state in India has the power to amend the provisions of the IPC as they deem necessary. For example, according to the Andhra Pradesh Act No. 3 of 1992, the offense of marrying again during the lifetime of the husband or wife is cognizable, non-bailable, triable by the Magistrate of the first class, and non-compoundable.\n",
      "\n",
      "It is important to note that the scope of Section 494 of the IPC does not apply to Mohammedan males, who are allowed to marry more than one wife, but it applies to Mohammedan females, and to Hindus, Christians, and Parsis of either sex. Additionally, the ingredients of the offense under Section 494 require that the accused must have contracted a first marriage, must have married again, the first marriage must be subsisting, and the spouse must be living.\n",
      "inferencetime_optimized : 160.82\n"
     ]
    }
   ],
   "source": [
    "chat_bot_front_end_mistral_LLMChain()"
   ]
  },
  {
   "cell_type": "code",
   "execution_count": null,
   "id": "589a52a1-0fc7-4f37-abc5-2be6aa8388fe",
   "metadata": {},
   "outputs": [],
   "source": []
  },
  {
   "cell_type": "code",
   "execution_count": null,
   "id": "4843c751-1431-4445-b727-1903df0a688b",
   "metadata": {},
   "outputs": [
    {
     "name": "stdin",
     "output_type": "stream",
     "text": [
      "Enter your query (or 'EXIT' to stop):  Explain Article 5\n"
     ]
    },
    {
     "data": {
      "application/vnd.jupyter.widget-view+json": {
       "model_id": "35a5f583cba44e33a09c1cc3d07426b2",
       "version_major": 2,
       "version_minor": 0
      },
      "text/plain": [
       "Batches:   0%|          | 0/1 [00:00<?, ?it/s]"
      ]
     },
     "metadata": {},
     "output_type": "display_data"
    },
    {
     "name": "stderr",
     "output_type": "stream",
     "text": [
      "Setting `pad_token_id` to `eos_token_id`:2 for open-end generation.\n"
     ]
    },
    {
     "name": "stdout",
     "output_type": "stream",
     "text": [
      "llm_response_not_optimized: \n",
      "Article 5 of the Indian Constitution is not directly provided in the given page\\_content of the documents. However, I can provide some information related to the articles and sections mentioned in the documents.\n",
      "\n",
      "The first document mentions the words \"under article 202,\" which refers to the jurisdiction and powers of the election commission. Article 202 provides for the power of the election commission to act judicially in certain matters. It states that while performing its duties, the election commission shall have the same powers as are vested in a civil court while trying a suit under the Code of Civil Procedure, 1908, in respect of the following matters:\n",
      "\n",
      "* Enforcing the attendance of witnesses and examining them on oath;\n",
      "* Discovery and production of documents;\n",
      "* Receiving evidence on affidavits;\n",
      "* Issuing commissions for the examination of witnesses or documents;\n",
      "\n",
      "The second document talks about the commencement of the Constitution and its effect on the jurisdiction of the authorities functioning as the Privy Council in a State specified in Part B of the First Schedule. According to this article, on the commencement of the Constitution, the jurisdiction of the Privy Council to entertain and dispose of appeals and petitions from or in respect of any judgment, decree, or order of any court within that State shall cease, and all appeals and other proceedings pending before the said authority at such commencement shall be transferred to, and disposed of by, the Supreme Court. Additionally, further provision may be made by Parliament by law to give effect to the provisions of this article.\n",
      "\n",
      "Therefore, Article 5 is not directly explained in the given document, but the above explanation provides some context related to the articles and sections mentioned in the documents.\n",
      "inferencetime_not_optimized : 128.99\n",
      "Checking response with not optimized\n"
     ]
    },
    {
     "data": {
      "application/vnd.jupyter.widget-view+json": {
       "model_id": "fc9b12bca5d8454a8d93542a35f872ee",
       "version_major": 2,
       "version_minor": 0
      },
      "text/plain": [
       "Batches:   0%|          | 0/1 [00:00<?, ?it/s]"
      ]
     },
     "metadata": {},
     "output_type": "display_data"
    },
    {
     "name": "stderr",
     "output_type": "stream",
     "text": [
      "Setting `pad_token_id` to `eos_token_id`:2 for open-end generation.\n"
     ]
    },
    {
     "name": "stdout",
     "output_type": "stream",
     "text": [
      "llm_response_optimized: \n",
      "Article 5 of the Indian Constitution deals with the power of the President to promulgate Ordinances during the recess of Parliament. The provision allows the President to make laws in the form of ordinances when both Houses of Parliament are not in session, and hence cannot pass laws. However, there are certain conditions and limitations to this power, which are outlined in the Constitution.\n",
      "\n",
      "The Ordinance must be laid before both Houses of Parliament when they reassemble. If both Houses agree, the Ordinance can become a law. However, if one or both Houses reject the Ordinance, it will cease to operate from the date of rejection. Additionally, if Parliament is not in session, and the President is satisfied that circumstances exist which render it necessary for him to take immediate action, he may promulgate an Ordinance.\n",
      "\n",
      "It is important to note that the power to promulgate Ordinances is subject to judicial review, and courts can strike down an Ordinance if it is found to be unconstitutional. Moreover, the power to promulgate Ordinances is not absolute and is subject to certain restrictions. For instance, an Ordinance cannot alter the provisions of the Constitution, and it must be consistent with the fundamental rights guaranteed under the Constitution.\n",
      "\n",
      "In summary, Article 5 of the Indian Constitution empowers the President to issue Ordinances during the recess of Parliament, but this power is subject to several checks and balances, including judicial review and parliamentary oversight.\n",
      "inferencetime_optimized : 96.06\n"
     ]
    },
    {
     "name": "stdin",
     "output_type": "stream",
     "text": [
      "Enter your query (or 'EXIT' to stop):  What is contempt of court\n"
     ]
    },
    {
     "data": {
      "application/vnd.jupyter.widget-view+json": {
       "model_id": "1e432c8ef2b3441fafe71dc84f77da08",
       "version_major": 2,
       "version_minor": 0
      },
      "text/plain": [
       "Batches:   0%|          | 0/1 [00:00<?, ?it/s]"
      ]
     },
     "metadata": {},
     "output_type": "display_data"
    },
    {
     "name": "stderr",
     "output_type": "stream",
     "text": [
      "Setting `pad_token_id` to `eos_token_id`:2 for open-end generation.\n"
     ]
    },
    {
     "name": "stdout",
     "output_type": "stream",
     "text": [
      "llm_response_not_optimized: \n",
      "Contempt of court refers to a specific category of offense defined under the Contempt of Courts Act, 1971 in India. It can be classified into two types: civil contempt and criminal contempt. Civil contempt involves wilful disobedience to any judgment, decree, direction, order, writ, or other processes of a court or wilful breach of an undertaking given to a court. On the other hand, criminal contempt includes the publication (by words, signs, visible representations, or otherwise) of any matter or the doing of any other act whatsoever that scandalizes or tends to scandalize or lowers or tends to lower the authority of any court, prejudices or interferes or tends to interfere with the due course of any judicial proceeding, or interferes or tends to interfere with or obstructs or tends to obstruct the administration of justice in any other manner.\n",
      "\n",
      "Additionally, certain acts such as rude and contumelious behavior, obstinacy, perverseness, prevarication, or refusal to answer any lawful question, breach of the peace, or any willful disturbance may also amount to contempt of court. However, if the offense of contempt of court is summarily dealt with under section 345 of the Criminal Procedure Code, the maximum punishment that can be imposed is a fine not exceeding Rs. 200.\n",
      "\n",
      "It is important to note that the provisions of the Contempt of Courts Act, 1971 are in addition to and not in derogation of the provisions of any other law relating to contempt of courts. Furthermore, contempt proceedings have unique features that are not found in criminal proceedings.\n",
      "inferencetime_not_optimized : 112.82\n",
      "Checking response with not optimized\n"
     ]
    },
    {
     "data": {
      "application/vnd.jupyter.widget-view+json": {
       "model_id": "718415cd0032476d9e5020dbaa9e2a7b",
       "version_major": 2,
       "version_minor": 0
      },
      "text/plain": [
       "Batches:   0%|          | 0/1 [00:00<?, ?it/s]"
      ]
     },
     "metadata": {},
     "output_type": "display_data"
    },
    {
     "name": "stderr",
     "output_type": "stream",
     "text": [
      "Setting `pad_token_id` to `eos_token_id`:2 for open-end generation.\n"
     ]
    },
    {
     "name": "stdout",
     "output_type": "stream",
     "text": [
      "llm_response_optimized: \n",
      "Contempt of court refers to the offense of disobeying or disrespecting a court of law and its procedures or orders. In India, contempt of court is classified into civil contempt and criminal contempt under the Contempt of Courts Act, 1971. Civil contempt involves wilful disobedience to any judgment, decree, direction, order, writ or other process of a court or wilful breach of an undertaking given to a court. On the other hand, criminal contempt includes publication (whether by words, spoken or written, or by signs, or by visible representations, or otherwise) of any matter or the doing of any other act whatsoever which scandalizes or tends to scandalize or lowers or tends to lower the authority of any court, prejudices or interferes or tends to interfere with the due course of any judicial proceeding, or interferes or tends to interfere with or obstructs or tends to obstruct the administration of justice in any other manner.\n",
      "\n",
      "Examples of contempt of court include rude and contumelious behavior, obstinacy, perverseness, prevarication, or refusal to answer any lawful question, breach of the peace, or any wilful disturbance. The punishment for contempt of court may vary depending on the severity of the offense and may include fines or imprisonment.\n",
      "\n",
      "It's important to note that the provisions of the Contempt of Courts Act, 1971 are in addition to and not in derogation of the provisions of any other law relating to contempt of courts.\n",
      "inferencetime_optimized : 103.15\n"
     ]
    },
    {
     "name": "stdin",
     "output_type": "stream",
     "text": [
      "Enter your query (or 'EXIT' to stop):  Explain Servant of Government in the constitution\n"
     ]
    },
    {
     "data": {
      "application/vnd.jupyter.widget-view+json": {
       "model_id": "70a9a23c2f2847b896ef9280d37c63fa",
       "version_major": 2,
       "version_minor": 0
      },
      "text/plain": [
       "Batches:   0%|          | 0/1 [00:00<?, ?it/s]"
      ]
     },
     "metadata": {},
     "output_type": "display_data"
    },
    {
     "name": "stderr",
     "output_type": "stream",
     "text": [
      "Setting `pad_token_id` to `eos_token_id`:2 for open-end generation.\n"
     ]
    },
    {
     "name": "stdout",
     "output_type": "stream",
     "text": [
      "llm_response_not_optimized: \n",
      "In the Indian Penal Code, the term \"Servant of Government\" is defined in Chapter II, which provides general explanations that serve as a key to interpreting the entire Code. According to Section 14 of the Indian Penal Code, the words \"servant of Government\" refer to any officer or servant who is either continued, appointed, or employed in India by or under the authority of the Government. This definition is consistently applied throughout the subsequent chapters of the Indian Penal Code.\n",
      "inferencetime_not_optimized : 32.36\n",
      "Checking response with not optimized\n"
     ]
    },
    {
     "data": {
      "application/vnd.jupyter.widget-view+json": {
       "model_id": "e5808201ec9040e292bcd713f1d76e53",
       "version_major": 2,
       "version_minor": 0
      },
      "text/plain": [
       "Batches:   0%|          | 0/1 [00:00<?, ?it/s]"
      ]
     },
     "metadata": {},
     "output_type": "display_data"
    },
    {
     "name": "stderr",
     "output_type": "stream",
     "text": [
      "Setting `pad_token_id` to `eos_token_id`:2 for open-end generation.\n"
     ]
    },
    {
     "name": "stdout",
     "output_type": "stream",
     "text": [
      "llm_response_optimized: \n",
      "In the Indian Penal Code, the term \"Servant of Government\" is defined in Chapter II, General Explanations, as any officer or servant who is continued, appointed, or employed in India by or under the authority of the Government. This definition provides a general explanation of who is considered a \"Servant of Government\" under the Indian Penal Code. It is important to note that this definition is a key to the interpretation of the whole Code and the meaning of these terms is steadily adhered to throughout the subsequent chapters.\n",
      "inferencetime_optimized : 33.22\n"
     ]
    },
    {
     "name": "stdin",
     "output_type": "stream",
     "text": [
      "Enter your query (or 'EXIT' to stop):  In my neighbour's house one thief stole jewellery, he was caught by the police. What sections of IPC we need to demand\n"
     ]
    },
    {
     "data": {
      "application/vnd.jupyter.widget-view+json": {
       "model_id": "c7b6e8a8dbb5482e9e62e4981e295168",
       "version_major": 2,
       "version_minor": 0
      },
      "text/plain": [
       "Batches:   0%|          | 0/1 [00:00<?, ?it/s]"
      ]
     },
     "metadata": {},
     "output_type": "display_data"
    },
    {
     "name": "stderr",
     "output_type": "stream",
     "text": [
      "Setting `pad_token_id` to `eos_token_id`:2 for open-end generation.\n"
     ]
    },
    {
     "name": "stdout",
     "output_type": "stream",
     "text": [
      "llm_response_not_optimized: \n",
      "Based on the information provided, the following sections of the Indian Penal Code (IPC) may apply in this situation:\n",
      "\n",
      "* Section 380: Theft: This section applies because a theft has occurred, and it defines the punishment for theft. However, since the accused has already been convicted under section 454, a separate conviction under section 380 is not required as per section 380.2.\n",
      "* Section 457: House-trespass in order to commit offence punishable with imprisonment: This section may apply if the thief entered the house with the intent to commit theft.\n",
      "* Section 413: Habitually dealing in stolen property: If the thief has a history of stealing and selling stolen goods, this section may apply. As explained in the document, \"habitually dealing\" requires evidence of other instances of the accused indulging in the act beyond the present instance.\n",
      "\n",
      "It's important to note that these are potential charges based on the given information, and the actual charges would depend on the specific circumstances of the case and the investigation conducted by the police.\n",
      "inferencetime_not_optimized : 74.71\n",
      "Checking response with not optimized\n"
     ]
    },
    {
     "data": {
      "application/vnd.jupyter.widget-view+json": {
       "model_id": "a3b75fc8cd3a474391ddcf8c4859f655",
       "version_major": 2,
       "version_minor": 0
      },
      "text/plain": [
       "Batches:   0%|          | 0/1 [00:00<?, ?it/s]"
      ]
     },
     "metadata": {},
     "output_type": "display_data"
    },
    {
     "name": "stderr",
     "output_type": "stream",
     "text": [
      "Setting `pad_token_id` to `eos_token_id`:2 for open-end generation.\n"
     ]
    },
    {
     "name": "stdout",
     "output_type": "stream",
     "text": [
      "llm_response_optimized: \n",
      "Based on the information provided, the following sections of the Indian Penal Code (IPC) may be applicable in this situation:\n",
      "\n",
      "1. Section 380 - Theft: This section applies when someone commits theft, which involves dishonestly taking away any movable property with the intention of permanently depriving the owner of it. Since the thief stole jewelry from your neighbor's house, this section would likely apply.\n",
      "2. Section 454 - House-trespass: If the thief entered your neighbor's house with the intent to commit an offense, such as theft, then Section 454 would apply. As mentioned in the document, an offence under section 454 also includes section 380. Therefore, a separate conviction for the offence under section 380 is not needed.\n",
      "3. Section 413 - Habitual dealing in stolen property: If the thief has a history of dealing in stolen property, including the present instance, then Section 413 might apply. This section punishes those who habitually deal in stolen property, making them liable for severe penalties.\n",
      "\n",
      "It's important to note that these suggestions are based on the given document, and the actual charges should be determined by legal professionals familiar with the specific details of the case.\n",
      "inferencetime_optimized : 88.74\n"
     ]
    },
    {
     "name": "stdin",
     "output_type": "stream",
     "text": [
      "Enter your query (or 'EXIT' to stop):  Explain Section 420\n"
     ]
    },
    {
     "data": {
      "application/vnd.jupyter.widget-view+json": {
       "model_id": "fc7f7338e75f4f7f898755efee8fab20",
       "version_major": 2,
       "version_minor": 0
      },
      "text/plain": [
       "Batches:   0%|          | 0/1 [00:00<?, ?it/s]"
      ]
     },
     "metadata": {},
     "output_type": "display_data"
    },
    {
     "name": "stderr",
     "output_type": "stream",
     "text": [
      "Setting `pad_token_id` to `eos_token_id`:2 for open-end generation.\n"
     ]
    },
    {
     "name": "stdout",
     "output_type": "stream",
     "text": [
      "llm_response_not_optimized: \n",
      "Section 420 of the Indian Penal Code (IPC) deals with the offense of cheating and dishonestly inducing delivery of property. It states that if a person cheats and thereby dishonestly induces another person to deliver any property or valuable security, they shall be punished with imprisonment of up to seven years, or fine, or both. This section applies to all kinds of cheating, whether it is done verbally, in writing, or through electronic means. It also includes situations where the offender pretends to be someone else or uses false documents to carry out the cheating. It is essential to note that the punishment for this offense can be enhanced if the offender commits the crime again or if the value of the property or security involved is significant.\n",
      "inferencetime_not_optimized : 50.33\n",
      "Checking response with not optimized\n"
     ]
    },
    {
     "data": {
      "application/vnd.jupyter.widget-view+json": {
       "model_id": "64b280313ecb4a5aa45e2cb97a9ffce0",
       "version_major": 2,
       "version_minor": 0
      },
      "text/plain": [
       "Batches:   0%|          | 0/1 [00:00<?, ?it/s]"
      ]
     },
     "metadata": {},
     "output_type": "display_data"
    },
    {
     "name": "stderr",
     "output_type": "stream",
     "text": [
      "Setting `pad_token_id` to `eos_token_id`:2 for open-end generation.\n"
     ]
    },
    {
     "name": "stdout",
     "output_type": "stream",
     "text": [
      "llm_response_optimized: \n",
      "Section 420 of the Indian Penal Code defines the offense of cheating and dishonestly inducing delivery of property. It states that:\n",
      "\n",
      "\"Whoever cheats and thereby dishonestly induces the person deceived to deliver any property to any person, or to make, alter or destroy the whole or any part of a valuable security, or anything which is signed or sealed, and which is capable of being converted into a valuable security, shall be punished with imprisonment of either description for a term which may extend to seven years, and shall also be liable to fine.\"\n",
      "\n",
      "In simple terms, it means that if a person cheats another person and because of this cheating, the deceived person delivers any property or makes, alters or destroys any valuable security, then the person who committed the cheating can be punished with imprisonment for up to 7 years and also be liable to pay a fine.\n",
      "\n",
      "It's important to note that the word \"cheat\" has not been defined in the IPC but it includes deceiving or misleading someone intentionally, by false representation or promises, or by concealing material facts.\n",
      "\n",
      "This section is widely used in cases related to fraud, forgery, and other financial crimes.\n",
      "inferencetime_optimized : 77.03\n"
     ]
    },
    {
     "name": "stdin",
     "output_type": "stream",
     "text": [
      "Enter your query (or 'EXIT' to stop):  There is a rivalry between 2 groups 2 of them got injured in a fight what section of ipc will apply\n"
     ]
    },
    {
     "data": {
      "application/vnd.jupyter.widget-view+json": {
       "model_id": "ae9928f79af4467e989b7def7ab4ff33",
       "version_major": 2,
       "version_minor": 0
      },
      "text/plain": [
       "Batches:   0%|          | 0/1 [00:00<?, ?it/s]"
      ]
     },
     "metadata": {},
     "output_type": "display_data"
    },
    {
     "name": "stderr",
     "output_type": "stream",
     "text": [
      "Setting `pad_token_id` to `eos_token_id`:2 for open-end generation.\n"
     ]
    },
    {
     "name": "stdout",
     "output_type": "stream",
     "text": [
      "llm_response_not_optimized: \n",
      "Based on the information provided, it appears that two individuals from rival groups were injured during a fight. However, the specific circumstances of the incident are not described in detail, making it difficult to determine the exact IPC sections that would apply.\n",
      " \n",
      "In general, causing injury to another person intentionally or recklessly can be punishable under various sections of the IPC, including Section 323 (voluntarily causing hurt), Section 324 (voluntarily causing hurt by dangerous weapons or means), Section 325 (punishment for voluntarily causing grievous hurt), and Section 326 (voluntarily causing grievous hurt by dangerous weapons or means).\n",
      " \n",
      "The choice of section would depend on factors such as the severity of the injuries caused, whether any dangerous weapons were used, and the intent of the person causing the injury.\n",
      " \n",
      "It's important to note that this answer is based on limited information and should not be considered legal advice. If you require legal assistance, please consult with a qualified legal professional.\n",
      "inferencetime_not_optimized : 71.39\n",
      "Checking response with not optimized\n"
     ]
    },
    {
     "data": {
      "application/vnd.jupyter.widget-view+json": {
       "model_id": "9f95cb318c344068bbc5f59d759df4b3",
       "version_major": 2,
       "version_minor": 0
      },
      "text/plain": [
       "Batches:   0%|          | 0/1 [00:00<?, ?it/s]"
      ]
     },
     "metadata": {},
     "output_type": "display_data"
    },
    {
     "name": "stderr",
     "output_type": "stream",
     "text": [
      "Setting `pad_token_id` to `eos_token_id`:2 for open-end generation.\n"
     ]
    },
    {
     "name": "stdout",
     "output_type": "stream",
     "text": [
      "llm_response_optimized: \n",
      "Based on the information provided, it appears that two individuals from rival groups were injured during a fight. However, the specific circumstances of the incident, including the intent and actions of each individual involved, are not detailed in your question. Therefore, it is difficult to provide a precise answer regarding the applicable sections of the Indian Penal Code (IPC).\n",
      "\n",
      "In general, if the injuries were caused unintentionally or due to negligence, sections related to hurt and grievous hurt (IPC sections 319-338) might apply. If the injuries were inflicted intentionally or with knowledge that they were likely to cause harm, sections related to assault and voluntarily causing hurt (IPC sections 323-333) could be relevant. Additionally, depending on the severity of the injuries, sections related to grievous hurt (IPC sections 320, 322, 323, 324, 325, and 326) might be applicable.\n",
      "\n",
      "To determine the exact sections of the IPC that apply to this situation, further details about the incident, such as the nature of the injuries, the intent of the individuals involved, and any aggravating factors, would be required.\n",
      "inferencetime_optimized : 76.11\n"
     ]
    },
    {
     "name": "stdin",
     "output_type": "stream",
     "text": [
      "Enter your query (or 'EXIT' to stop):  Explain Freedom of Speech as defined in constitution\n"
     ]
    },
    {
     "data": {
      "application/vnd.jupyter.widget-view+json": {
       "model_id": "db27dd368c00463889310a10afb63ac3",
       "version_major": 2,
       "version_minor": 0
      },
      "text/plain": [
       "Batches:   0%|          | 0/1 [00:00<?, ?it/s]"
      ]
     },
     "metadata": {},
     "output_type": "display_data"
    },
    {
     "name": "stderr",
     "output_type": "stream",
     "text": [
      "Setting `pad_token_id` to `eos_token_id`:2 for open-end generation.\n"
     ]
    },
    {
     "name": "stdout",
     "output_type": "stream",
     "text": [
      "llm_response_not_optimized: \n",
      "The Constitution of India guarantees freedom of speech in both the legislature of every state and in Parliament. According to Article 194(1) of the Constitution, there shall be freedom of speech in the Legislature of every State. Similarly, according to Article 105(1) of the Constitution, there shall be freedom of speech in Parliament. \n",
      "\n",
      "This means that members of the Legislature and Parliament have the right to express their views and opinions freely on any matter during the course of discussions in the house or in any committee thereof. They cannot be prosecuted or subjected to any legal proceedings in any court for anything said or any vote given by them in the Legislature or Parliament or any committee thereof. \n",
      "\n",
      "Additionally, the publication by or under the authority of a House of the Legislature or Parliament of any report, paper, votes or proceedings cannot be used against any person in any legal proceedings. \n",
      "\n",
      "However, it should be noted that the freedom of speech in the Legislature and Parliament is subject to certain restrictions and limitations. The Constitution empowers the Legislature and Parliament to define the powers, privileges and immunities of the Houses, and of the members and committees thereof. Until so defined, the powers, privileges and immunities of the Houses, and of the members and committees thereof, shall be those of that House and of its members and committees immediately before the coming into force of relevant sections of the Constitution (Forty-fourth Amendment) Act, 1978.\n",
      "\n",
      "In summary, freedom of speech in the Legislature and Parliament is a fundamental right guaranteed by the Constitution of India, which allows members to express their views and opinions freely without fear of legal repercussions. However, this freedom is subject to certain restrictions and limitations, and the powers, privileges and immunities of the Houses, and of the members and committees thereof, can be defined by the Legislature and Parliament from time to time.\n",
      "inferencetime_not_optimized : 115.89\n",
      "Checking response with not optimized\n"
     ]
    },
    {
     "data": {
      "application/vnd.jupyter.widget-view+json": {
       "model_id": "bc4fbc46303048a29ed819850d147992",
       "version_major": 2,
       "version_minor": 0
      },
      "text/plain": [
       "Batches:   0%|          | 0/1 [00:00<?, ?it/s]"
      ]
     },
     "metadata": {},
     "output_type": "display_data"
    },
    {
     "name": "stderr",
     "output_type": "stream",
     "text": [
      "Setting `pad_token_id` to `eos_token_id`:2 for open-end generation.\n"
     ]
    },
    {
     "name": "stdout",
     "output_type": "stream",
     "text": [
      "llm_response_optimized: \n",
      "The Constitution of India guarantees freedom of speech in both the legislature of every state and in Parliament. This means that members of the legislative assembly or council in the states and members of Parliament have the right to express their views freely during debates and discussions held in the legislative bodies or committees. They cannot be prosecuted or subjected to legal proceedings for anything they say or the votes they cast in the legislature or committee meetings. Similarly, no one can be held liable for the publication of reports, papers, votes, or proceedings authorized by either House of Parliament or the Legislature of a State.\n",
      "\n",
      "In addition to this, the Constitution allows each House of Parliament, and the members and committees of each House, to define their own powers, privileges, and immunities. These will be as provided by law, and until so defined, they will be those of that House and of its members and committees immediately before the coming into force of section 15 of the Constitution (Forty-fourth Amendment) Act, 1978, in the case of Parliament, and section 26 of the Constitution (Forty-fourth Amendment) Act, 1978, in the case of State Legislatures.\n",
      "\n",
      "It's important to note that these provisions are meant to ensure the smooth functioning of the legislative process by protecting the rights of members to speak freely and without fear of retribution. However, they do not grant unlimited immunity, and any abuse of these privileges can still be subject to punishment by the legislative body itself.\n",
      "inferencetime_optimized : 93.11\n"
     ]
    },
    {
     "name": "stdin",
     "output_type": "stream",
     "text": [
      "Enter your query (or 'EXIT' to stop):  Explain the legal unique for Jammu and Kashmir in India compared to other states\n"
     ]
    },
    {
     "data": {
      "application/vnd.jupyter.widget-view+json": {
       "model_id": "d8c1e3a8e7784fa98f10680782019afa",
       "version_major": 2,
       "version_minor": 0
      },
      "text/plain": [
       "Batches:   0%|          | 0/1 [00:00<?, ?it/s]"
      ]
     },
     "metadata": {},
     "output_type": "display_data"
    },
    {
     "name": "stderr",
     "output_type": "stream",
     "text": [
      "Setting `pad_token_id` to `eos_token_id`:2 for open-end generation.\n"
     ]
    },
    {
     "name": "stdout",
     "output_type": "stream",
     "text": [
      "llm_response_not_optimized: \n",
      "Under the Constitution of India, Jammu and Kashmir holds a unique status compared to other states. While the rest of the country is governed by the Indian Penal Code (IPC), Jammu and Kashmir has its own separate penal code known as the Ranbir Penal Code (RPC). The RPC was introduced in 1932 during the reign of Maharaja Hari Singh, the last ruler of Jammu and Kashmir, and continues to be in force in the state.\n",
      "\n",
      "However, in 2019, the Government of India revoked the special status of Jammu and Kashmir under Article 370 of the Constitution, paving the way for the application of the IPC in the state. This move has been met with controversy and opposition, with critics arguing that it undermines the autonomy of the state and infringes upon the rights of its people.\n",
      "\n",
      "Despite these changes, it is important to note that certain provisions of the IPC, such as those related to terrorism and money laundering, have already been applied to Jammu and Kashmir through various central laws. Additionally, the state has its own set of laws and regulations that govern various aspects of life, including property disputes, land ownership, and inheritance.\n",
      "\n",
      "In summary, while Jammu and Kashmir has historically had a unique legal status within India due to its own penal code and constitutional provisions, recent changes have brought the state more in line with the rest of the country in terms of criminal law. However, the state still retains its own set of laws and regulations, reflecting its distinct cultural and historical identity.\n",
      "inferencetime_not_optimized : 98.68\n",
      "Checking response with not optimized\n"
     ]
    },
    {
     "data": {
      "application/vnd.jupyter.widget-view+json": {
       "model_id": "e92a2140cb4b423dbb8d8ee7cf0b7add",
       "version_major": 2,
       "version_minor": 0
      },
      "text/plain": [
       "Batches:   0%|          | 0/1 [00:00<?, ?it/s]"
      ]
     },
     "metadata": {},
     "output_type": "display_data"
    },
    {
     "name": "stderr",
     "output_type": "stream",
     "text": [
      "Setting `pad_token_id` to `eos_token_id`:2 for open-end generation.\n"
     ]
    },
    {
     "name": "stdout",
     "output_type": "stream",
     "text": [
      "llm_response_optimized: \n",
      "Under the Constitution of India, Jammu and Kashmir holds a unique status compared to other states. The Indian Penal Code (IPC), which contains the general exceptions to criminal liability, applies to all of India except the state of Jammu and Kashmir. This means that the general exceptions listed in sections 76-106 of the IPC, such as the act of a person bound by law to do a certain thing or the act of a judge acting judicially, do not apply in Jammu and Kashmir. Instead, the state has its own separate penal code, known as the Ranbir Penal Code (RPC), which contains its own set of general exceptions. Additionally, the burden of proof for establishing the existence of these general exceptions lies with the accused in both the IPC and RPC.\n",
      "inferencetime_optimized : 48.76\n"
     ]
    },
    {
     "name": "stdin",
     "output_type": "stream",
     "text": [
      "Enter your query (or 'EXIT' to stop):  Give more on Jammu and Kashmir\n"
     ]
    },
    {
     "data": {
      "application/vnd.jupyter.widget-view+json": {
       "model_id": "cc4b281ffdc349618f937bce5e4184c5",
       "version_major": 2,
       "version_minor": 0
      },
      "text/plain": [
       "Batches:   0%|          | 0/1 [00:00<?, ?it/s]"
      ]
     },
     "metadata": {},
     "output_type": "display_data"
    },
    {
     "name": "stderr",
     "output_type": "stream",
     "text": [
      "Setting `pad_token_id` to `eos_token_id`:2 for open-end generation.\n"
     ]
    },
    {
     "name": "stdout",
     "output_type": "stream",
     "text": [
      "llm_response_not_optimized: \n",
      "Jammu and Kashmir has had a unique status within the Indian Constitution, governed by Article 370, which provided the state with its own Constitution and limited applicability of the Indian Constitution. However, this has changed recently.\n",
      " \n",
      "On August 6, 2019, the President of India issued a constitutional order under Article 370, which ceased the operation of most of the provisions of Article 370, making the state's Constitution subject to the Indian Constitution. The order also bifurcated the state into two union territories: Jammu and Kashmir, and Ladakh. This change was made through the Jammu and Kashmir Reorganisation Act, 2019 (34 of 2019), which led to the deletion of Entry 15 relating to Jammu and Kashmir.\n",
      " \n",
      "The new arrangement implies that the Indian Parliament now has the authority to legislate on all matters, including those previously reserved for the state, except defense, foreign affairs, and communications. Additionally, the state's permanent residents will lose their exclusive rights to buy property, get government jobs, or vote in local elections.\n",
      " \n",
      "These changes have been met with controversy and protests in the region, as well as international concern. Critics argue that the move undermines regional autonomy and risks further alienating the population, potentially fueling unrest and instability. Supporters claim that it will lead to greater integration, economic development, and security in the region.\n",
      "inferencetime_not_optimized : 92.81\n",
      "Checking response with not optimized\n"
     ]
    },
    {
     "data": {
      "application/vnd.jupyter.widget-view+json": {
       "model_id": "eafd6f2e160444488b632b94e7a90a5e",
       "version_major": 2,
       "version_minor": 0
      },
      "text/plain": [
       "Batches:   0%|          | 0/1 [00:00<?, ?it/s]"
      ]
     },
     "metadata": {},
     "output_type": "display_data"
    },
    {
     "name": "stderr",
     "output_type": "stream",
     "text": [
      "Setting `pad_token_id` to `eos_token_id`:2 for open-end generation.\n"
     ]
    },
    {
     "name": "stdout",
     "output_type": "stream",
     "text": [
      "llm_response_optimized: \n",
      "Jammu and Kashmir (J&K) holds a unique position in the Indian Constitution as it was granted special status under Article 370. This article provided J&K with its own Constitution and restricted the Indian Parliament's legislative powers over the state. However, the provisions of Article 370 have been significantly altered by the Jammu and Kashmir Reorganisation Act, 2019 (34 of 2019).\n",
      "\n",
      "The document you provided mentions several key changes related to J&K:\n",
      "\n",
      "1. Entry 15, previously relating to J&K, has been deleted by the Jammu and Kashmir Reorganisation Act, 2019.\n",
      "2. The renumbering of Entries 16 to 29 as Entries 15 to 28 by the same Act indicates that certain subjects previously exclusive to J&K are now open to the Indian Parliament's jurisdiction.\n",
      "3. The temporary provisions with respect to J&K, outlined in Article 370, have been substantially modified. As per the Presidential Order issued on August 6, 2019, most of the provisions of Article 370 ceased to operate, except for some residual clauses.\n",
      "\n",
      "These changes signify a significant shift in the relationship between J&K and the rest of India, making J&K subject to the same constitutional provisions as other states in the country.\n",
      "inferencetime_optimized : 90.91\n"
     ]
    },
    {
     "name": "stdin",
     "output_type": "stream",
     "text": [
      "Enter your query (or 'EXIT' to stop):  Give details of Information on Public Servant\n"
     ]
    },
    {
     "data": {
      "application/vnd.jupyter.widget-view+json": {
       "model_id": "cadea4d3800344eeb0218cd0a3a00526",
       "version_major": 2,
       "version_minor": 0
      },
      "text/plain": [
       "Batches:   0%|          | 0/1 [00:00<?, ?it/s]"
      ]
     },
     "metadata": {},
     "output_type": "display_data"
    },
    {
     "name": "stderr",
     "output_type": "stream",
     "text": [
      "Setting `pad_token_id` to `eos_token_id`:2 for open-end generation.\n"
     ]
    },
    {
     "name": "stdout",
     "output_type": "stream",
     "text": [
      "llm_response_not_optimized: \n",
      "According to the Indian Penal Code, a public servant is defined as a person who is in the service or pay of the Government and is entrusted with the performance of any public duty. This definition is not exhaustive, meaning that a person may be considered a public servant in terms of another statute. The term \"public servant\" cannot be extended to the provisions of the Representation of the People Act when this Act makes reference to persons in the service of the Government.\n",
      "\n",
      "There are several offenses that can only be committed by public servants, and they also have privileges peculiar to themselves while discharging their duties.\n",
      "\n",
      "The following individuals are considered public servants:\n",
      "\n",
      "* Persons holding any office in virtue of which they are empowered to prepare, publish, maintain or revise an electoral roll or to conduct an election or part of an election.\n",
      "* Every person who holds any office in virtue of which he is empowered to make, authenticate or keep any document for the ascertaining of the rights of the people of any village, town or district.\n",
      "* Every person who holds any office by virtue of which he is authorized to issue orders having the force of law.\n",
      "* Every person who is a Judge or a Magistrate.\n",
      "* Every person who is a Juror or Assessor.\n",
      "* Every person who is a Chairman, Vice-Chairman, Secretary or Member of any Municipality or Panchayat.\n",
      "* Every person who is a Chairman, Vice-Chairman, Secretary or Member of any Committee appointed by the Government.\n",
      "* Every person who is a Director, Manager, Secretary or other officer of any Company or Corporation established by or under any Central, Provincial or State Act or a Government company as defined in section 617 of the Companies Act, 1956 (Act 1 of 1956), and in which the Government has a controlling interest.\n",
      "* Every person who is a Director, Manager, Secretary or other officer of any other Company or Corporation established by or under any Central, Provincial or State Act or a Government company as defined in section 617 of the Companies Act, 956 (Act 1 of 1956), and in which the Government has a controlling interest.\n",
      "* Every person who holds any other public office by virtue of which he is empowered to place or keep any person in confinement or to restrict his personal liberty or to subject him to punishment or to impose any fine or penalty or to enforce the observance of any regulation or restriction.\n",
      "* Every person who holds any other office in virtue of which he is authorized to investigate or to report on any matter.\n",
      "* Every person who holds any other office in virtue of which he is empowered to make, authenticate or keep any document for the ascertaining of the rights of any person.\n",
      "* Every person who is a Chairman, Vice-Chairman, Secretary or Member of any Board, Council, Committee or other body which is constituted by the Government for the purpose of regulating or administering any department of the Government or the affairs of any body or institution in receipt of assistance from the Government.\n",
      "\n",
      "Additionally, Explanation 1 states that persons falling under any of the above descriptions are public servants, whether appointed by the Government or not. Explanation 2 states that wherever the words \"public servant\" occur, they shall be understood of every person who is in actual possession of the situation of a public servant, whatever legal defect there may be in his right to hold that situation.\n",
      "\n",
      "It should be noted that the term \"Commissioner\" is used in the sense of a Municipal Councillor or member and not merely an officer designated as \"Commissioner\".\n",
      "inferencetime_not_optimized : 204.26\n",
      "Checking response with not optimized\n"
     ]
    },
    {
     "data": {
      "application/vnd.jupyter.widget-view+json": {
       "model_id": "ee0f4fa7210241498a4824cdd0589a75",
       "version_major": 2,
       "version_minor": 0
      },
      "text/plain": [
       "Batches:   0%|          | 0/1 [00:00<?, ?it/s]"
      ]
     },
     "metadata": {},
     "output_type": "display_data"
    },
    {
     "name": "stderr",
     "output_type": "stream",
     "text": [
      "Setting `pad_token_id` to `eos_token_id`:2 for open-end generation.\n"
     ]
    },
    {
     "name": "stdout",
     "output_type": "stream",
     "text": [
      "llm_response_optimized: \n",
      "In the Indian Penal Code, a \"public servant\" is defined as any person who is in the service or pay of the Government and is entrusted with the performance of any public duty. This definition is not exhaustive, and a person may be considered a public servant under another statute as well.\n",
      "\n",
      "There are several offenses that can only be committed by public servants, and they also have certain privileges unique to their role. The term \"public servant\" includes those who hold an office that empowers them to prepare, publish, maintain, or revise an electoral roll or conduct an election. It also includes individuals who are in the service or pay of the Government, a local authority, a corporation established by or under a Central, Provincial, or State Act, or a Government company.\n",
      "\n",
      "The definition of \"public servant\" cannot be extended to the provisions of the Representation of the People Act when it refers to persons in the service of the Government. However, wherever the words \"public servant\" occur, they shall be understood of every person who is in actual possession of the situation of a public servant, regardless of any legal defect in their right to hold that position.\n",
      "\n",
      "An example of a public servant given in the text is a Municipal Commissioner.\n",
      "inferencetime_optimized : 69.95\n"
     ]
    }
   ],
   "source": [
    "chat_bot_front_end_mistral_LLMChain()"
   ]
  },
  {
   "cell_type": "code",
   "execution_count": null,
   "id": "b4baff8a-e5ab-4d35-b84f-77e6dc7bec27",
   "metadata": {},
   "outputs": [],
   "source": []
  },
  {
   "cell_type": "code",
   "execution_count": null,
   "id": "65185193-b31e-4be3-8943-51801b0d597a",
   "metadata": {},
   "outputs": [],
   "source": []
  },
  {
   "cell_type": "code",
   "execution_count": null,
   "id": "496b05e0-3845-448a-8b5b-25bc956abd6c",
   "metadata": {},
   "outputs": [],
   "source": []
  },
  {
   "cell_type": "markdown",
   "id": "a159ad26-1467-4ca8-9de5-fbe1a45e2fb8",
   "metadata": {
    "jp-MarkdownHeadingCollapsed": true
   },
   "source": [
    "# Ignore Below"
   ]
  },
  {
   "cell_type": "code",
   "execution_count": 36,
   "id": "26efcf19-9b88-4359-b5ee-2195d88a3cd3",
   "metadata": {},
   "outputs": [],
   "source": [
    "def chat_bot_front_end():\n",
    "    while True:\n",
    "        # Prompt the user for a query\n",
    "        input_query = str(input(\"Enter your query (or 'EXIT' to stop): \"))\n",
    "    \n",
    "        # Check if the user entered 'EXIT' to stop the program\n",
    "        if input_query.upper() == 'EXIT':\n",
    "            print(\"Exiting...\")\n",
    "            break\n",
    "        start_time = time.time()\n",
    "        # Execute the query using the QA chain\n",
    "        llm_response_not_optimized = qa_chain_not_optimized({\"query\": input_query})\n",
    "        inferencetime_not_optimized = round((time.time()-start_time), 2)\n",
    "        # Print the response\n",
    "        print(f\"llm_response_not_optimized: {llm_response_not_optimized['result']}\")\n",
    "        print(f\"inferencetime_not_optimized : {inferencetime_not_optimized}\")\n",
    "        \n",
    "        start_time = time.time()\n",
    "       \n",
    "        # Execute the query using the QA chain\n",
    "        llm_response_optimized = qa_chain_optimized({\"query\": input_query})\n",
    "        inferencetime_optimized = round((time.time()-start_time), 2)\n",
    "        print(f\"llm_response_optimized: {llm_response_optimized['result']}\")\n",
    "        print(f\"inferencetime_optimized : {inferencetime_optimized}\")\n",
    "        \n"
   ]
  },
  {
   "cell_type": "code",
   "execution_count": 35,
   "id": "44f6cb78-b996-4cec-9d7d-cc21b8906c37",
   "metadata": {},
   "outputs": [
    {
     "name": "stdin",
     "output_type": "stream",
     "text": [
      "Enter your query (or 'EXIT' to stop):  What is IPC\n"
     ]
    },
    {
     "data": {
      "application/vnd.jupyter.widget-view+json": {
       "model_id": "6d41f0ad7c3d4eb88874b520c3a4af63",
       "version_major": 2,
       "version_minor": 0
      },
      "text/plain": [
       "Batches:   0%|          | 0/1 [00:00<?, ?it/s]"
      ]
     },
     "metadata": {},
     "output_type": "display_data"
    },
    {
     "name": "stderr",
     "output_type": "stream",
     "text": [
      "Setting `pad_token_id` to `eos_token_id`:2 for open-end generation.\n"
     ]
    },
    {
     "name": "stdout",
     "output_type": "stream",
     "text": [
      "llm_response_optimized:  IPC stands for Indian Penal Code. It was enacted in 1860 and came into operation on 1st January 1862. It applies throughout India except the state of Jammu and Kashmir. It makes every person liable to punishment for every act or omission contrary to its provisions, regardless of nationality or rank. However, it does not apply to the Sovereign or Foreign Sovereigns outside India. The IPC also does not affect the provisions of any act for punishing mutiny and desertion by officers, soldiers, sailors or airmen in the service of the Government of India.\n",
      "inferencetime_optimized : 45.61\n"
     ]
    },
    {
     "data": {
      "application/vnd.jupyter.widget-view+json": {
       "model_id": "6d4fb5f1a55241828d23c6f914d19f24",
       "version_major": 2,
       "version_minor": 0
      },
      "text/plain": [
       "Batches:   0%|          | 0/1 [00:00<?, ?it/s]"
      ]
     },
     "metadata": {},
     "output_type": "display_data"
    },
    {
     "name": "stderr",
     "output_type": "stream",
     "text": [
      "Setting `pad_token_id` to `eos_token_id`:2 for open-end generation.\n"
     ]
    },
    {
     "name": "stdout",
     "output_type": "stream",
     "text": [
      "llm_response_not_optimized:  IPC stands for Indian Penal Code. It is a comprehensive code intended to cover all substantive aspects of criminal law. It was drafted in 1860 and took eﬀect on 1st January 1862. The IPC applies throughout India except the State of Jammu and Kashmir. It makes every person liable to punishment for every act or omission which is contrary to its provisions. However, it does not aﬀect the provisions of any act for punishing mutiny and desertion by oﬃcers, soldiers, sailors or airmen in the service of the Government of India.\n",
      "inferencetime_not_optimized : 40.39\n"
     ]
    },
    {
     "name": "stdin",
     "output_type": "stream",
     "text": [
      "Enter your query (or 'EXIT' to stop):  Section 320 explain\n"
     ]
    },
    {
     "data": {
      "application/vnd.jupyter.widget-view+json": {
       "model_id": "2bac3e9a1c6f41ae923c49dc953db335",
       "version_major": 2,
       "version_minor": 0
      },
      "text/plain": [
       "Batches:   0%|          | 0/1 [00:00<?, ?it/s]"
      ]
     },
     "metadata": {},
     "output_type": "display_data"
    },
    {
     "name": "stderr",
     "output_type": "stream",
     "text": [
      "Setting `pad_token_id` to `eos_token_id`:2 for open-end generation.\n"
     ]
    },
    {
     "name": "stdout",
     "output_type": "stream",
     "text": [
      "llm_response_optimized:  Section 320 of Indian Penal Code, 1860 deals with grievous hurt. It lists the injuries which can be considered as grievous hurt. According to this section, grievous hurt means extremely serious bodily injury. It includes permanent loss of sight of an eye, permanent privation of the hearing of either ear, emasculation, permanent privation of the use of any limb, etc. The punishment for causing grievous hurt is provided under section 325 of the Indian Penal Code, 1860.\n",
      "inferencetime_optimized : 33.22\n"
     ]
    },
    {
     "data": {
      "application/vnd.jupyter.widget-view+json": {
       "model_id": "a6814c1661364dde9d283422feec3d38",
       "version_major": 2,
       "version_minor": 0
      },
      "text/plain": [
       "Batches:   0%|          | 0/1 [00:00<?, ?it/s]"
      ]
     },
     "metadata": {},
     "output_type": "display_data"
    },
    {
     "name": "stderr",
     "output_type": "stream",
     "text": [
      "Setting `pad_token_id` to `eos_token_id`:2 for open-end generation.\n"
     ]
    },
    {
     "name": "stdout",
     "output_type": "stream",
     "text": [
      "llm_response_not_optimized:  Section 320 of Indian Penal Code defines grievous hurt as follows:\n",
      "(1) Emasculation;\n",
      "(2) Permanent privation of the sight of either eye;\n",
      "(3) Permanent privation of the hearing of either ear;\n",
      "(4) Privation of any member or joint;\n",
      "(5) Destruction or permanent impairing of the powers of any member or joint;\n",
      "(6) Permanent disfiguration of head or face;\n",
      "(7) Fracture or dislocation of a bone or tooth;\n",
      "(8) Any hurt which endangers life or which causes the sufferer to be during the space of twenty days in severe bodily pain, or unable to follow his ordinary pursuits.\n",
      "Explanation.—For the purposes of this section an “emasculation” means the removal of a testicle or penis.\n",
      "inferencetime_not_optimized : 55.18\n"
     ]
    },
    {
     "name": "stdin",
     "output_type": "stream",
     "text": [
      "Enter your query (or 'EXIT' to stop):  EXIT\n"
     ]
    },
    {
     "name": "stdout",
     "output_type": "stream",
     "text": [
      "Exiting...\n"
     ]
    }
   ],
   "source": [
    "chat_bot_front_end()"
   ]
  },
  {
   "cell_type": "code",
   "execution_count": null,
   "id": "ab9bdb72-3aa5-44d5-9018-ed08cace7623",
   "metadata": {},
   "outputs": [],
   "source": []
  },
  {
   "cell_type": "code",
   "execution_count": 28,
   "id": "790c2b08-4240-4c6e-ab28-64aee51f5fa3",
   "metadata": {},
   "outputs": [
    {
     "name": "stdin",
     "output_type": "stream",
     "text": [
      "Enter your query (or 'EXIT' to stop):  Article 5 explain\n"
     ]
    },
    {
     "data": {
      "application/vnd.jupyter.widget-view+json": {
       "model_id": "52304c5115cd4b73ae2076ae65a46480",
       "version_major": 2,
       "version_minor": 0
      },
      "text/plain": [
       "Batches:   0%|          | 0/1 [00:00<?, ?it/s]"
      ]
     },
     "metadata": {},
     "output_type": "display_data"
    },
    {
     "name": "stderr",
     "output_type": "stream",
     "text": [
      "UserWarning: `do_sample` is set to `False`. However, `temperature` is set to `0.3` -- this flag is only used in sample-based generation modes. You should set `do_sample=True` or unset `temperature`.\n",
      "Setting `pad_token_id` to `eos_token_id`:2 for open-end generation.\n"
     ]
    },
    {
     "name": "stdout",
     "output_type": "stream",
     "text": [
      "llm_response_optimized:  Article 5 of the Indian Constitution deals with the composition of the Rajya Sabha, which is one of the two Houses of Parliament in India. According to this article, the Rajya Sabha is composed of representatives of the States and of the Union territories. The total number of members of the Rajya Sabha is 245, out of which 233 are representatives of the States and 12 are representatives of the Union territories. Each State is represented in the Rajya Sabha by not more than ten members, and the representatives of each State are elected by the Legislative Assembly of that State in accordance with the system of proportional representation by means of the single transferable vote. The representatives of the Union territories are chosen in such manner as Parliament may by law provide.\n",
      "inferencetime_optimized : 83.22\n"
     ]
    },
    {
     "data": {
      "application/vnd.jupyter.widget-view+json": {
       "model_id": "6fd60f57844f4ec6b1873e939d7a6900",
       "version_major": 2,
       "version_minor": 0
      },
      "text/plain": [
       "Batches:   0%|          | 0/1 [00:00<?, ?it/s]"
      ]
     },
     "metadata": {},
     "output_type": "display_data"
    },
    {
     "name": "stderr",
     "output_type": "stream",
     "text": [
      "UserWarning: `do_sample` is set to `False`. However, `temperature` is set to `0.3` -- this flag is only used in sample-based generation modes. You should set `do_sample=True` or unset `temperature`.\n",
      "Setting `pad_token_id` to `eos_token_id`:2 for open-end generation.\n"
     ]
    },
    {
     "name": "stdout",
     "output_type": "stream",
     "text": [
      "llm_response_not_optimized:  Article 5 of the Indian Constitution deals with the composition of the Rajya Sabha, which is one of the two Houses of Parliament in India. According to this article, the Rajya Sabha is composed of representatives of the States and of the Union territories. The total number of members of the Rajya Sabha is 245, out of which 233 are representatives of the States and 12 are representatives of the Union territories. Each State is represented in the Rajya Sabha by not more than ten members, and the representatives of each State are elected by the Legislative Assembly of that State in accordance with the system of proportional representation by means of the single transferable vote. The representatives of the Union territories are chosen in such manner as Parliament may by law provide.\n",
      "inferencetime_not_optimized : 83.66\n"
     ]
    },
    {
     "name": "stdin",
     "output_type": "stream",
     "text": [
      "Enter your query (or 'EXIT' to stop):  what is contempt of court\n"
     ]
    },
    {
     "data": {
      "application/vnd.jupyter.widget-view+json": {
       "model_id": "36590226d4564ddcbc04be767827f4ab",
       "version_major": 2,
       "version_minor": 0
      },
      "text/plain": [
       "Batches:   0%|          | 0/1 [00:00<?, ?it/s]"
      ]
     },
     "metadata": {},
     "output_type": "display_data"
    },
    {
     "name": "stderr",
     "output_type": "stream",
     "text": [
      "UserWarning: `do_sample` is set to `False`. However, `temperature` is set to `0.3` -- this flag is only used in sample-based generation modes. You should set `do_sample=True` or unset `temperature`.\n",
      "Setting `pad_token_id` to `eos_token_id`:2 for open-end generation.\n"
     ]
    },
    {
     "name": "stdout",
     "output_type": "stream",
     "text": [
      "llm_response_optimized:  Contempt of court refers to actions or behaviors that disrespect, disrupt, or interfere with the authority and administration of justice in a court of law. This can include wilful disobedience to court orders, publishing material that scandalizes or lowers the authority of a court, or interfering with the due course of judicial proceedings. Contempt of court can be civil or criminal, and penalties may vary depending on the severity and nature of the offense.\n",
      "inferencetime_optimized : 40.21\n"
     ]
    },
    {
     "data": {
      "application/vnd.jupyter.widget-view+json": {
       "model_id": "31b9e1a1cb9f49eabef49d2561b71eef",
       "version_major": 2,
       "version_minor": 0
      },
      "text/plain": [
       "Batches:   0%|          | 0/1 [00:00<?, ?it/s]"
      ]
     },
     "metadata": {},
     "output_type": "display_data"
    },
    {
     "name": "stderr",
     "output_type": "stream",
     "text": [
      "UserWarning: `do_sample` is set to `False`. However, `temperature` is set to `0.3` -- this flag is only used in sample-based generation modes. You should set `do_sample=True` or unset `temperature`.\n",
      "Setting `pad_token_id` to `eos_token_id`:2 for open-end generation.\n"
     ]
    },
    {
     "name": "stdout",
     "output_type": "stream",
     "text": [
      "llm_response_not_optimized:  Contempt of court refers to actions or behaviors that disrespect, disrupt, or interfere with the authority and administration of justice in a court of law. This can include wilful disobedience to court orders, publishing material that scandalizes or lowers the authority of a court, or interfering with the due course of judicial proceedings. Contempt of court can be civil or criminal, and penalties may vary depending on the severity and nature of the offense.\n",
      "inferencetime_not_optimized : 29.78\n"
     ]
    },
    {
     "name": "stdin",
     "output_type": "stream",
     "text": [
      "Enter your query (or 'EXIT' to stop):  EXIT\n"
     ]
    },
    {
     "name": "stdout",
     "output_type": "stream",
     "text": [
      "Exiting...\n"
     ]
    }
   ],
   "source": [
    "chat_bot_front_end()"
   ]
  },
  {
   "cell_type": "code",
   "execution_count": null,
   "id": "8a111cd6-d373-46fc-bb4c-d84b3f69cc75",
   "metadata": {},
   "outputs": [
    {
     "name": "stdin",
     "output_type": "stream",
     "text": [
      "Enter your query (or 'EXIT' to stop):  Article 5 explain\n"
     ]
    },
    {
     "data": {
      "application/vnd.jupyter.widget-view+json": {
       "model_id": "7080108443cc43b298994d97c0c91d37",
       "version_major": 2,
       "version_minor": 0
      },
      "text/plain": [
       "Batches:   0%|          | 0/1 [00:00<?, ?it/s]"
      ]
     },
     "metadata": {},
     "output_type": "display_data"
    },
    {
     "name": "stdout",
     "output_type": "stream",
     "text": [
      "llm_response_optimized: The context does not provide information about Article 5 explaining anything.\n",
      "inferencetime_optimized : 0.69\n"
     ]
    },
    {
     "data": {
      "application/vnd.jupyter.widget-view+json": {
       "model_id": "f3aebf641e9c451c806d639f68dd1c4a",
       "version_major": 2,
       "version_minor": 0
      },
      "text/plain": [
       "Batches:   0%|          | 0/1 [00:00<?, ?it/s]"
      ]
     },
     "metadata": {},
     "output_type": "display_data"
    },
    {
     "name": "stdout",
     "output_type": "stream",
     "text": [
      "llm_response_not_optimized: The context does not provide information about Article 5 explaining anything.\n",
      "inferencetime_not_optimized : 0.71\n"
     ]
    },
    {
     "name": "stdin",
     "output_type": "stream",
     "text": [
      "Enter your query (or 'EXIT' to stop):  What is Section 420\n"
     ]
    },
    {
     "data": {
      "application/vnd.jupyter.widget-view+json": {
       "model_id": "ae14e52f1fee465297be52c485525287",
       "version_major": 2,
       "version_minor": 0
      },
      "text/plain": [
       "Batches:   0%|          | 0/1 [00:00<?, ?it/s]"
      ]
     },
     "metadata": {},
     "output_type": "display_data"
    },
    {
     "name": "stdout",
     "output_type": "stream",
     "text": [
      "llm_response_optimized: Section 420 is helpful because it includes provisions of article 331 and the words and figure \"and paragraph 4 of the Tenth Schedule\" omitted by the Constitution Act, 1975, s. 5.\n",
      "inferencetime_optimized : 1.49\n"
     ]
    },
    {
     "data": {
      "application/vnd.jupyter.widget-view+json": {
       "model_id": "225c886a03874b239c59a46d003646d1",
       "version_major": 2,
       "version_minor": 0
      },
      "text/plain": [
       "Batches:   0%|          | 0/1 [00:00<?, ?it/s]"
      ]
     },
     "metadata": {},
     "output_type": "display_data"
    },
    {
     "name": "stdout",
     "output_type": "stream",
     "text": [
      "llm_response_not_optimized: Section 420 is helpful because it includes provisions of Article 331 and is not a separate conviction for the offence under section 380 of the IPC, 1860.\n",
      "inferencetime_not_optimized : 1.54\n"
     ]
    },
    {
     "name": "stdin",
     "output_type": "stream",
     "text": [
      "Enter your query (or 'EXIT' to stop):  Explain Freedom of speech\n"
     ]
    },
    {
     "data": {
      "application/vnd.jupyter.widget-view+json": {
       "model_id": "ab19439be1d444ca899b853880364100",
       "version_major": 2,
       "version_minor": 0
      },
      "text/plain": [
       "Batches:   0%|          | 0/1 [00:00<?, ?it/s]"
      ]
     },
     "metadata": {},
     "output_type": "display_data"
    },
    {
     "name": "stderr",
     "output_type": "stream",
     "text": [
      "Token indices sequence length is longer than the specified maximum sequence length for this model (578 > 512). Running this sequence through the model will result in indexing errors\n"
     ]
    },
    {
     "name": "stdout",
     "output_type": "stream",
     "text": [
      "llm_response_optimized: The right to free speech is highly valued and cherished right in India.\n",
      "inferencetime_optimized : 0.79\n"
     ]
    },
    {
     "data": {
      "application/vnd.jupyter.widget-view+json": {
       "model_id": "81e54ee537694e1aaca121bbd48c93f5",
       "version_major": 2,
       "version_minor": 0
      },
      "text/plain": [
       "Batches:   0%|          | 0/1 [00:00<?, ?it/s]"
      ]
     },
     "metadata": {},
     "output_type": "display_data"
    },
    {
     "name": "stderr",
     "output_type": "stream",
     "text": [
      "Token indices sequence length is longer than the specified maximum sequence length for this model (578 > 512). Running this sequence through the model will result in indexing errors\n"
     ]
    },
    {
     "name": "stdout",
     "output_type": "stream",
     "text": [
      "llm_response_not_optimized: The Constitution conceives of reasonable restriction.\n",
      "inferencetime_not_optimized : 0.55\n"
     ]
    },
    {
     "name": "stdin",
     "output_type": "stream",
     "text": [
      "Enter your query (or 'EXIT' to stop):  if someone steals from my house what he should be punished\n"
     ]
    },
    {
     "data": {
      "application/vnd.jupyter.widget-view+json": {
       "model_id": "ec2181f5f03d4541a6adfd10fd8677ce",
       "version_major": 2,
       "version_minor": 0
      },
      "text/plain": [
       "Batches:   0%|          | 0/1 [00:00<?, ?it/s]"
      ]
     },
     "metadata": {},
     "output_type": "display_data"
    },
    {
     "name": "stdout",
     "output_type": "stream",
     "text": [
      "llm_response_optimized: If someone steals from your house, they should be punished according to the given context.\n",
      "inferencetime_optimized : 1.07\n"
     ]
    },
    {
     "data": {
      "application/vnd.jupyter.widget-view+json": {
       "model_id": "0961c17f2d9144adb4c31cbca1f53b68",
       "version_major": 2,
       "version_minor": 0
      },
      "text/plain": [
       "Batches:   0%|          | 0/1 [00:00<?, ?it/s]"
      ]
     },
     "metadata": {},
     "output_type": "display_data"
    },
    {
     "name": "stdout",
     "output_type": "stream",
     "text": [
      "llm_response_not_optimized: The person who steals from the owner's house should be punished with a fine.\n",
      "inferencetime_not_optimized : 0.8\n"
     ]
    },
    {
     "name": "stdin",
     "output_type": "stream",
     "text": [
      "Enter your query (or 'EXIT' to stop):  Power of Parliament\n"
     ]
    },
    {
     "data": {
      "application/vnd.jupyter.widget-view+json": {
       "model_id": "0d78e606fce24a758ad2062413840413",
       "version_major": 2,
       "version_minor": 0
      },
      "text/plain": [
       "Batches:   0%|          | 0/1 [00:00<?, ?it/s]"
      ]
     },
     "metadata": {},
     "output_type": "display_data"
    },
    {
     "name": "stdout",
     "output_type": "stream",
     "text": [
      "llm_response_optimized: The President shall obtain the opinion of the Election Commission and shall act according to such opinion.\n",
      "inferencetime_optimized : 1.98\n"
     ]
    },
    {
     "data": {
      "application/vnd.jupyter.widget-view+json": {
       "model_id": "690bef2cf45f4251b6dadc073911aa18",
       "version_major": 2,
       "version_minor": 0
      },
      "text/plain": [
       "Batches:   0%|          | 0/1 [00:00<?, ?it/s]"
      ]
     },
     "metadata": {},
     "output_type": "display_data"
    },
    {
     "name": "stdout",
     "output_type": "stream",
     "text": [
      "llm_response_not_optimized: The power of Parliament is to provide for the establishment of certain additional courts.\n",
      "inferencetime_not_optimized : 0.73\n"
     ]
    },
    {
     "name": "stdin",
     "output_type": "stream",
     "text": [
      "Enter your query (or 'EXIT' to stop):  Restriction on rights conferred by this Part while martial law is in force in any area\n"
     ]
    },
    {
     "data": {
      "application/vnd.jupyter.widget-view+json": {
       "model_id": "4a39cff37ea54a3c8aaca0ab2a1ccab2",
       "version_major": 2,
       "version_minor": 0
      },
      "text/plain": [
       "Batches:   0%|          | 0/1 [00:00<?, ?it/s]"
      ]
     },
     "metadata": {},
     "output_type": "display_data"
    },
    {
     "name": "stdout",
     "output_type": "stream",
     "text": [
      "llm_response_optimized: The restriction on rights conferred by this Part while martial law is in force in any area is not mentioned in the given context. Therefore, the answer is \"unanswerable\".\n",
      "inferencetime_optimized : 1.47\n"
     ]
    },
    {
     "data": {
      "application/vnd.jupyter.widget-view+json": {
       "model_id": "4072a76957a64ad3b22e08477fad7d95",
       "version_major": 2,
       "version_minor": 0
      },
      "text/plain": [
       "Batches:   0%|          | 0/1 [00:00<?, ?it/s]"
      ]
     },
     "metadata": {},
     "output_type": "display_data"
    },
    {
     "name": "stdout",
     "output_type": "stream",
     "text": [
      "llm_response_not_optimized: The restriction on rights conferred by this Part while martial law is in force in any area is not mentioned in the given context.\n",
      "inferencetime_not_optimized : 1.03\n"
     ]
    },
    {
     "name": "stdin",
     "output_type": "stream",
     "text": [
      "Enter your query (or 'EXIT' to stop):  Section 19 IPC, 1860\n"
     ]
    },
    {
     "data": {
      "application/vnd.jupyter.widget-view+json": {
       "model_id": "0813ec1c432840c6a497c853ab09cd43",
       "version_major": 2,
       "version_minor": 0
      },
      "text/plain": [
       "Batches:   0%|          | 0/1 [00:00<?, ?it/s]"
      ]
     },
     "metadata": {},
     "output_type": "display_data"
    },
    {
     "name": "stdout",
     "output_type": "stream",
     "text": [
      "llm_response_optimized: The offence under section 174A IPC, 1860 can be tried and disposed of by the same Court.\n",
      "inferencetime_optimized : 0.99\n"
     ]
    },
    {
     "data": {
      "application/vnd.jupyter.widget-view+json": {
       "model_id": "21881f501df54e3bb325db203c7eadf2",
       "version_major": 2,
       "version_minor": 0
      },
      "text/plain": [
       "Batches:   0%|          | 0/1 [00:00<?, ?it/s]"
      ]
     },
     "metadata": {},
     "output_type": "display_data"
    },
    {
     "name": "stdout",
     "output_type": "stream",
     "text": [
      "llm_response_not_optimized: The offence under section 174A of IPC, 1860 can be tried and disposed of by the same Court.\n",
      "inferencetime_not_optimized : 0.9\n"
     ]
    },
    {
     "name": "stdin",
     "output_type": "stream",
     "text": [
      "Enter your query (or 'EXIT' to stop):  Define the word public\n"
     ]
    },
    {
     "data": {
      "application/vnd.jupyter.widget-view+json": {
       "model_id": "f41b9d12003d4ce0a72abd9e92985348",
       "version_major": 2,
       "version_minor": 0
      },
      "text/plain": [
       "Batches:   0%|          | 0/1 [00:00<?, ?it/s]"
      ]
     },
     "metadata": {},
     "output_type": "display_data"
    },
    {
     "name": "stdout",
     "output_type": "stream",
     "text": [
      "llm_response_optimized: The term used to describe something that is helpful to the public is \"public nuisance\".\n",
      "inferencetime_optimized : 0.91\n"
     ]
    },
    {
     "data": {
      "application/vnd.jupyter.widget-view+json": {
       "model_id": "962a9426204541578b47b15312c89c7b",
       "version_major": 2,
       "version_minor": 0
      },
      "text/plain": [
       "Batches:   0%|          | 0/1 [00:00<?, ?it/s]"
      ]
     },
     "metadata": {},
     "output_type": "display_data"
    },
    {
     "name": "stdout",
     "output_type": "stream",
     "text": [
      "llm_response_not_optimized: The term used to describe something that is helpful is \"public nuisance\".\n",
      "inferencetime_not_optimized : 1.09\n"
     ]
    }
   ],
   "source": [
    "chat_bot_front_end()"
   ]
  },
  {
   "cell_type": "code",
   "execution_count": null,
   "id": "33343eec-2f49-4133-bd96-575be84b3d63",
   "metadata": {},
   "outputs": [],
   "source": []
  }
 ],
 "metadata": {
  "kernelspec": {
   "display_name": "pytorch-gpu",
   "language": "python",
   "name": "pytorch-gpu"
  },
  "language_info": {
   "codemirror_mode": {
    "name": "ipython",
    "version": 3
   },
   "file_extension": ".py",
   "mimetype": "text/x-python",
   "name": "python",
   "nbconvert_exporter": "python",
   "pygments_lexer": "ipython3",
   "version": "3.9.16"
  }
 },
 "nbformat": 4,
 "nbformat_minor": 5
}
